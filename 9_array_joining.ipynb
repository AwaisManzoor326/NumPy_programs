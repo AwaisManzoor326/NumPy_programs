{
 "cells": [
  {
   "cell_type": "code",
   "id": "initial_id",
   "metadata": {
    "collapsed": true,
    "ExecuteTime": {
     "end_time": "2025-09-08T14:11:05.059242Z",
     "start_time": "2025-09-08T14:11:04.895111Z"
    }
   },
   "source": "import numpy as np",
   "outputs": [],
   "execution_count": 1
  },
  {
   "metadata": {
    "ExecuteTime": {
     "end_time": "2025-09-08T14:19:36.650075Z",
     "start_time": "2025-09-08T14:19:36.643802Z"
    }
   },
   "cell_type": "code",
   "source": [
    "arr1 = np.array([1, 2, 3])\n",
    "arr2 = np.array([4, 5, 6])\n",
    "arr3 = np.concatenate((arr1, arr2))\n",
    "print(arr3)"
   ],
   "id": "3aa2ac3e9dda392c",
   "outputs": [
    {
     "name": "stdout",
     "output_type": "stream",
     "text": [
      "[1 2 3 4 5 6]\n"
     ]
    }
   ],
   "execution_count": 4
  },
  {
   "metadata": {
    "ExecuteTime": {
     "end_time": "2025-09-08T14:24:31.861752Z",
     "start_time": "2025-09-08T14:24:31.856276Z"
    }
   },
   "cell_type": "code",
   "source": [
    "arr1 = np.array([[1, 2], [3, 4]])\n",
    "\n",
    "arr2 = np.array([[5, 6], [7, 8]])\n",
    "\n",
    "# by default axis 0 hota ha. 0 ka mtlb ha k row wise concatenate kro means 1st array k nichay second ko rkh lo\n",
    "# 1 ka mtlb ha column wise, 1st array ki 1st row and second array ki 1st row inhay same row ma lay ao columns increase kr lo\n",
    "# 2D array ma 0 or 1 e use hotay hayn\n",
    "\n",
    "arr = np.concatenate((arr1, arr2), axis=1)\n",
    "\n",
    "print(arr)"
   ],
   "id": "2fb65025bce7aa1",
   "outputs": [
    {
     "name": "stdout",
     "output_type": "stream",
     "text": [
      "[[1 2 5 6]\n",
      " [3 4 7 8]]\n"
     ]
    }
   ],
   "execution_count": 9
  },
  {
   "metadata": {
    "ExecuteTime": {
     "end_time": "2025-09-08T14:51:20.563561Z",
     "start_time": "2025-09-08T14:51:20.546829Z"
    }
   },
   "cell_type": "code",
   "source": [
    "# 3D arrays ma axis = 2 b use hota hay\n",
    "arr1 = np.array([\n",
    "    [[1, 2], [3, 4]],\n",
    "    [[5, 6], [7, 8]]\n",
    "])\n",
    "\n",
    "arr2 = np.array([\n",
    "    [[9, 10], [11, 12]],\n",
    "    [[13, 14], [15, 16]]\n",
    "])\n",
    "\n",
    "arr = np.concatenate((arr1, arr2), axis=0)\n",
    "print(arr)\n",
    "print(arr.shape)"
   ],
   "id": "df1ae8b9d26f7001",
   "outputs": [
    {
     "name": "stdout",
     "output_type": "stream",
     "text": [
      "[[[ 1  2]\n",
      "  [ 3  4]]\n",
      "\n",
      " [[ 5  6]\n",
      "  [ 7  8]]\n",
      "\n",
      " [[ 9 10]\n",
      "  [11 12]]\n",
      "\n",
      " [[13 14]\n",
      "  [15 16]]]\n",
      "(4, 2, 2)\n"
     ]
    }
   ],
   "execution_count": 15
  },
  {
   "metadata": {
    "ExecuteTime": {
     "end_time": "2025-09-08T14:55:32.023513Z",
     "start_time": "2025-09-08T14:55:32.017463Z"
    }
   },
   "cell_type": "code",
   "source": [
    "arr1 = np.array([1, 2, 3])\n",
    "\n",
    "arr2 = np.array([4, 5, 6])\n",
    "\n",
    "arr = np.stack((arr1, arr2), axis=1)\n",
    "print(arr)"
   ],
   "id": "70e7e6b65b71a763",
   "outputs": [
    {
     "name": "stdout",
     "output_type": "stream",
     "text": [
      "[[1 4]\n",
      " [2 5]\n",
      " [3 6]]\n"
     ]
    }
   ],
   "execution_count": 20
  },
  {
   "metadata": {
    "ExecuteTime": {
     "end_time": "2025-09-08T15:19:21.856086Z",
     "start_time": "2025-09-08T15:19:21.848828Z"
    }
   },
   "cell_type": "code",
   "source": [
    "arr1 = np.array([\n",
    "    [[1, 2], [3, 4]],\n",
    "    [[5, 6], [7, 8]]\n",
    "])\n",
    "\n",
    "arr2 = np.array([\n",
    "    [[9, 10], [11, 12]],\n",
    "    [[13, 14], [15, 16]]\n",
    "])\n",
    "\n",
    "arr = np.stack((arr1, arr2), axis=3)\n",
    "print(arr)"
   ],
   "id": "c0bac153b77e18c7",
   "outputs": [
    {
     "name": "stdout",
     "output_type": "stream",
     "text": [
      "[[[[ 1  9]\n",
      "   [ 2 10]]\n",
      "\n",
      "  [[ 3 11]\n",
      "   [ 4 12]]]\n",
      "\n",
      "\n",
      " [[[ 5 13]\n",
      "   [ 6 14]]\n",
      "\n",
      "  [[ 7 15]\n",
      "   [ 8 16]]]]\n"
     ]
    }
   ],
   "execution_count": 31
  },
  {
   "metadata": {
    "ExecuteTime": {
     "end_time": "2025-09-08T15:20:01.485250Z",
     "start_time": "2025-09-08T15:20:01.478361Z"
    }
   },
   "cell_type": "code",
   "source": [
    "arr1 = np.array([1, 2, 3])\n",
    "\n",
    "arr2 = np.array([4, 5, 6])\n",
    "\n",
    "arr = np.hstack((arr1, arr2))           # horizontal stack / row stack\n",
    "print(arr)"
   ],
   "id": "dbf7b472a6d4cde1",
   "outputs": [
    {
     "name": "stdout",
     "output_type": "stream",
     "text": [
      "[1 2 3 4 5 6]\n"
     ]
    }
   ],
   "execution_count": 32
  },
  {
   "metadata": {
    "ExecuteTime": {
     "end_time": "2025-09-08T15:20:49.570439Z",
     "start_time": "2025-09-08T15:20:49.563724Z"
    }
   },
   "cell_type": "code",
   "source": [
    "arr1 = np.array([1, 2, 3])\n",
    "\n",
    "arr2 = np.array([4, 5, 6])\n",
    "\n",
    "arr = np.vstack((arr1, arr2))         # vertical stack / column wise\n",
    "\n",
    "print(arr)"
   ],
   "id": "fe250eb9a01ec069",
   "outputs": [
    {
     "name": "stdout",
     "output_type": "stream",
     "text": [
      "[[1 2 3]\n",
      " [4 5 6]]\n"
     ]
    }
   ],
   "execution_count": 34
  },
  {
   "metadata": {
    "ExecuteTime": {
     "end_time": "2025-09-08T15:22:46.009992Z",
     "start_time": "2025-09-08T15:22:46.003292Z"
    }
   },
   "cell_type": "code",
   "source": [
    "arr1 = np.array([1, 2, 3])\n",
    "\n",
    "arr2 = np.array([4, 5, 6])\n",
    "\n",
    "arr = np.dstack((arr1, arr2))  # depth/height stack\n",
    "\n",
    "print(arr)"
   ],
   "id": "e8e641411dc931a5",
   "outputs": [
    {
     "name": "stdout",
     "output_type": "stream",
     "text": [
      "[[[1 4]\n",
      "  [2 5]\n",
      "  [3 6]]]\n"
     ]
    }
   ],
   "execution_count": 36
  }
 ],
 "metadata": {
  "kernelspec": {
   "display_name": "Python 3",
   "language": "python",
   "name": "python3"
  },
  "language_info": {
   "codemirror_mode": {
    "name": "ipython",
    "version": 2
   },
   "file_extension": ".py",
   "mimetype": "text/x-python",
   "name": "python",
   "nbconvert_exporter": "python",
   "pygments_lexer": "ipython2",
   "version": "2.7.6"
  }
 },
 "nbformat": 4,
 "nbformat_minor": 5
}
