{
 "cells": [
  {
   "cell_type": "code",
   "id": "initial_id",
   "metadata": {
    "collapsed": true,
    "ExecuteTime": {
     "end_time": "2025-09-08T14:11:05.059242Z",
     "start_time": "2025-09-08T14:11:04.895111Z"
    }
   },
   "source": "import numpy as np",
   "outputs": [],
   "execution_count": 1
  },
  {
   "metadata": {
    "ExecuteTime": {
     "end_time": "2025-09-08T14:19:36.650075Z",
     "start_time": "2025-09-08T14:19:36.643802Z"
    }
   },
   "cell_type": "code",
   "source": [
    "arr1 = np.array([1, 2, 3])\n",
    "arr2 = np.array([4, 5, 6])\n",
    "arr3 = np.concatenate((arr1, arr2))\n",
    "print(arr3)"
   ],
   "id": "3aa2ac3e9dda392c",
   "outputs": [
    {
     "name": "stdout",
     "output_type": "stream",
     "text": [
      "[1 2 3 4 5 6]\n"
     ]
    }
   ],
   "execution_count": 4
  },
  {
   "metadata": {
    "ExecuteTime": {
     "end_time": "2025-09-08T14:24:31.861752Z",
     "start_time": "2025-09-08T14:24:31.856276Z"
    }
   },
   "cell_type": "code",
   "source": [
    "arr1 = np.array([[1, 2], [3, 4]])\n",
    "\n",
    "arr2 = np.array([[5, 6], [7, 8]])\n",
    "\n",
    "# by default axis 0 hota ha. 0 ka mtlb ha k row wise concatenate kro means 1st array k nichay second ko rkh lo\n",
    "# 1 ka mtlb ha column wise, 1st array ki 1st row and second array ki 1st row inhay same row ma lay ao columns increase kr lo\n",
    "# 2D array ma 0 or 1 e use hotay hayn\n",
    "\n",
    "arr = np.concatenate((arr1, arr2), axis=1)\n",
    "\n",
    "print(arr)"
   ],
   "id": "2fb65025bce7aa1",
   "outputs": [
    {
     "name": "stdout",
     "output_type": "stream",
     "text": [
      "[[1 2 5 6]\n",
      " [3 4 7 8]]\n"
     ]
    }
   ],
   "execution_count": 9
  },
  {
   "metadata": {
    "ExecuteTime": {
     "end_time": "2025-09-08T14:32:28.647560Z",
     "start_time": "2025-09-08T14:32:28.640642Z"
    }
   },
   "cell_type": "code",
   "source": [
    "# 3D arrays ma axis = 2 b use hota hay\n",
    "arr1 = np.array([\n",
    "    [[1, 2], [3, 4]],\n",
    "    [[5, 6], [7, 8]]\n",
    "])\n",
    "\n",
    "arr2 = np.array([\n",
    "    [[9, 10], [11, 12]],\n",
    "    [[13, 14], [15, 16]]\n",
    "])\n",
    "\n",
    "arr = np.concatenate((arr1, arr2), axis=0)\n",
    "print(arr)\n",
    "print(arr.shape)"
   ],
   "id": "df1ae8b9d26f7001",
   "outputs": [
    {
     "name": "stdout",
     "output_type": "stream",
     "text": [
      "[[[ 1  2]\n",
      "  [ 3  4]]\n",
      "\n",
      " [[ 5  6]\n",
      "  [ 7  8]]\n",
      "\n",
      " [[ 9 10]\n",
      "  [11 12]]\n",
      "\n",
      " [[13 14]\n",
      "  [15 16]]]\n",
      "(4, 2, 2)\n"
     ]
    }
   ],
   "execution_count": 14
  }
 ],
 "metadata": {
  "kernelspec": {
   "display_name": "Python 3",
   "language": "python",
   "name": "python3"
  },
  "language_info": {
   "codemirror_mode": {
    "name": "ipython",
    "version": 2
   },
   "file_extension": ".py",
   "mimetype": "text/x-python",
   "name": "python",
   "nbconvert_exporter": "python",
   "pygments_lexer": "ipython2",
   "version": "2.7.6"
  }
 },
 "nbformat": 4,
 "nbformat_minor": 5
}
