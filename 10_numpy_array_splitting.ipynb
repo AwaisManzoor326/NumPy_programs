{
 "cells": [
  {
   "cell_type": "code",
   "execution_count": 3,
   "id": "c2277dfe",
   "metadata": {},
   "outputs": [],
   "source": [
    "import numpy as np"
   ]
  },
  {
   "cell_type": "markdown",
   "id": "7f11ad7a",
   "metadata": {},
   "source": [
    "Splitting is reverse of joining.\n",
    "\n",
    "Joining merges multiple arrays to a single and splitting aplits one array to multiple.\n",
    "\n",
    "We use array_split() method to split array. We pass it array to split and number of splits, all as arguments"
   ]
  },
  {
   "cell_type": "code",
   "execution_count": 4,
   "id": "6c44e170",
   "metadata": {},
   "outputs": [
    {
     "name": "stdout",
     "output_type": "stream",
     "text": [
      "Original array:\n",
      "[1 2 3 4 5 6]\n",
      "Splitted array:\n",
      "[array([1, 2]), array([3, 4]), array([5]), array([6])]\n"
     ]
    }
   ],
   "source": [
    "l1 = [1, 2, 3, 4, 5, 6]\n",
    "arr = np.array(l1)\n",
    "print(\"Original array:\")\n",
    "print(arr)\n",
    "newarr = np.array_split(arr, 4) # If the array has less elements than required, it will adjust from the end accordingly.\n",
    "print(\"Splitted array:\")\n",
    "print(newarr)"
   ]
  },
  {
   "cell_type": "markdown",
   "id": "a9eb1ed8",
   "metadata": {},
   "source": [
    " We also have the method split() available but it will not adjust the elements when elements are less in source array for splitting like in example above, array_split() worked properly but split() would fail."
   ]
  },
  {
   "cell_type": "code",
   "execution_count": 10,
   "id": "c5683c96",
   "metadata": {},
   "outputs": [
    {
     "ename": "ValueError",
     "evalue": "array split does not result in an equal division",
     "output_type": "error",
     "traceback": [
      "\u001b[1;31m---------------------------------------------------------------------------\u001b[0m",
      "\u001b[1;31mValueError\u001b[0m                                Traceback (most recent call last)",
      "Cell \u001b[1;32mIn[10], line 3\u001b[0m\n\u001b[0;32m      1\u001b[0m l2 \u001b[38;5;241m=\u001b[39m [\u001b[38;5;241m1\u001b[39m, \u001b[38;5;241m2\u001b[39m, \u001b[38;5;241m3\u001b[39m, \u001b[38;5;241m4\u001b[39m, \u001b[38;5;241m5\u001b[39m, \u001b[38;5;241m6\u001b[39m, \u001b[38;5;241m7\u001b[39m, \u001b[38;5;241m8\u001b[39m, \u001b[38;5;241m9\u001b[39m]\n\u001b[0;32m      2\u001b[0m arr2 \u001b[38;5;241m=\u001b[39m np\u001b[38;5;241m.\u001b[39marray(l2)\n\u001b[1;32m----> 3\u001b[0m newarr2 \u001b[38;5;241m=\u001b[39m np\u001b[38;5;241m.\u001b[39msplit(arr2, \u001b[38;5;241m2\u001b[39m) \u001b[38;5;66;03m# Here, the array has to be exactly divisible by the number of splits, else it will throw an error.\u001b[39;00m\n\u001b[0;32m      4\u001b[0m \u001b[38;5;28mprint\u001b[39m(\u001b[38;5;124m\"\u001b[39m\u001b[38;5;124mAnother splitted array:\u001b[39m\u001b[38;5;124m\"\u001b[39m)\n\u001b[0;32m      5\u001b[0m \u001b[38;5;28mprint\u001b[39m(newarr2)\n",
      "File \u001b[1;32mc:\\Users\\PC\\anaconda3\\Lib\\site-packages\\numpy\\lib\\_shape_base_impl.py:889\u001b[0m, in \u001b[0;36msplit\u001b[1;34m(ary, indices_or_sections, axis)\u001b[0m\n\u001b[0;32m    887\u001b[0m     N \u001b[38;5;241m=\u001b[39m ary\u001b[38;5;241m.\u001b[39mshape[axis]\n\u001b[0;32m    888\u001b[0m     \u001b[38;5;28;01mif\u001b[39;00m N \u001b[38;5;241m%\u001b[39m sections:\n\u001b[1;32m--> 889\u001b[0m         \u001b[38;5;28;01mraise\u001b[39;00m \u001b[38;5;167;01mValueError\u001b[39;00m(\n\u001b[0;32m    890\u001b[0m             \u001b[38;5;124m'\u001b[39m\u001b[38;5;124marray split does not result in an equal division\u001b[39m\u001b[38;5;124m'\u001b[39m) \u001b[38;5;28;01mfrom\u001b[39;00m\u001b[38;5;250m \u001b[39m\u001b[38;5;28;01mNone\u001b[39;00m\n\u001b[0;32m    891\u001b[0m \u001b[38;5;28;01mreturn\u001b[39;00m array_split(ary, indices_or_sections, axis)\n",
      "\u001b[1;31mValueError\u001b[0m: array split does not result in an equal division"
     ]
    }
   ],
   "source": [
    "l2 = [1, 2, 3, 4, 5, 6, 7, 8, 9]\n",
    "arr2 = np.array(l2)\n",
    "newarr2 = np.split(arr2, 2) # Here, the array has to be exactly divisible by the number of splits, else it will throw an error.\n",
    "print(\"Another splitted array:\")\n",
    "print(newarr2)"
   ]
  },
  {
   "cell_type": "markdown",
   "id": "29ec99f9",
   "metadata": {},
   "source": [
    "**indexing the splitted array**\n",
    "\n",
    "The return value of the array_split() method is a list containing each of the split as an array."
   ]
  },
  {
   "cell_type": "code",
   "execution_count": 5,
   "id": "a0fdaeba",
   "metadata": {},
   "outputs": [
    {
     "name": "stdout",
     "output_type": "stream",
     "text": [
      "[1 2]\n",
      "[3 4]\n"
     ]
    }
   ],
   "source": [
    "print(newarr[0]) # Accessing the first list of the splitted array\n",
    "print(newarr[1]) # Accessing the second list of the splitted array\n"
   ]
  },
  {
   "cell_type": "markdown",
   "id": "0097a232",
   "metadata": {},
   "source": [
    "```python\n",
    "Splitting 2D arrays\n",
    "```\n",
    "\n",
    "splits array to given number of splits but keep aray 2D"
   ]
  },
  {
   "cell_type": "code",
   "execution_count": 12,
   "id": "38009468",
   "metadata": {},
   "outputs": [
    {
     "name": "stdout",
     "output_type": "stream",
     "text": [
      "Splitted 2D array:\n",
      "[array([[1, 2]]), array([[3, 4]]), array([[5, 6]]), array([[7, 8]]), array([[ 9, 10]]), array([[11, 12]]), array([], shape=(0, 2), dtype=int64), array([], shape=(0, 2), dtype=int64), array([], shape=(0, 2), dtype=int64), array([], shape=(0, 2), dtype=int64)]\n",
      "[]\n"
     ]
    }
   ],
   "source": [
    "arr3 = np.array([[1, 2], [3, 4], [5, 6], [7, 8], [9, 10], [11, 12]])\n",
    "newarr3 = np.array_split(arr3, 10) # Splitting 2D arrays\n",
    "print(\"Splitted 2D array:\")\n",
    "print(newarr3)\n",
    "# print(newarr3[0]) # Accessing the first 2D list of the splitted 2D array\n",
    "# print(newarr3[9]) # Accessing the second 2D list of the splitted 2D array"
   ]
  },
  {
   "cell_type": "markdown",
   "id": "304719a7",
   "metadata": {},
   "source": [
    "you can specify which axis you want to do the split around.\n",
    "\n",
    "ie. to split along column, we use axis=1\n",
    "\n",
    "how it will split.? takes the elements column wise ie. 1st element from 1st column of all rows"
   ]
  },
  {
   "cell_type": "code",
   "execution_count": 16,
   "id": "7b24cad2",
   "metadata": {},
   "outputs": [
    {
     "name": "stdout",
     "output_type": "stream",
     "text": [
      "Splitted 2D array along columns:\n",
      "[[ 1]\n",
      " [ 4]\n",
      " [ 7]\n",
      " [10]\n",
      " [13]\n",
      " [16]]\n",
      "[[ 2]\n",
      " [ 5]\n",
      " [ 8]\n",
      " [11]\n",
      " [14]\n",
      " [17]]\n",
      "[[ 3]\n",
      " [ 6]\n",
      " [ 9]\n",
      " [12]\n",
      " [15]\n",
      " [18]]\n",
      "[]\n",
      "[]\n"
     ]
    }
   ],
   "source": [
    "arr4 = np.array([[1, 2, 3], [4, 5, 6], [7, 8, 9], [10, 11, 12], [13, 14, 15], [16, 17, 18]])\n",
    "newarr4 = np.array_split(arr4, 6, axis=1) # Splitting 2D arrays along columns\n",
    "print(\"Splitted 2D array along columns:\")\n",
    "# print(newarr4)\n",
    "print(newarr4[0]) # Accessing the first 2D list of the splitted 2D array\n",
    "print(newarr4[1]) # Accessing the second 2D list of the splitted 2D array\n",
    "print(newarr4[2])\n",
    "print(newarr4[3])\n",
    "print(newarr4[4])\n"
   ]
  },
  {
   "cell_type": "markdown",
   "id": "ff126b86",
   "metadata": {},
   "source": [
    "alternate of column wise splitting of using axis = 1 is hsplit()\n",
    "\n",
    "but raise error when given splits are not possible from aray"
   ]
  },
  {
   "cell_type": "code",
   "execution_count": 22,
   "id": "08701675",
   "metadata": {},
   "outputs": [
    {
     "name": "stdout",
     "output_type": "stream",
     "text": [
      "Splitted 2D array along columns using hsplit():\n",
      "[array([[ 1],\n",
      "       [ 4],\n",
      "       [ 7],\n",
      "       [10],\n",
      "       [13],\n",
      "       [16]]), array([[ 2],\n",
      "       [ 5],\n",
      "       [ 8],\n",
      "       [11],\n",
      "       [14],\n",
      "       [17]]), array([[ 3],\n",
      "       [ 6],\n",
      "       [ 9],\n",
      "       [12],\n",
      "       [15],\n",
      "       [18]])]\n",
      "[[ 1]\n",
      " [ 4]\n",
      " [ 7]\n",
      " [10]\n",
      " [13]\n",
      " [16]]\n",
      "[[ 2]\n",
      " [ 5]\n",
      " [ 8]\n",
      " [11]\n",
      " [14]\n",
      " [17]]\n",
      "[[ 3]\n",
      " [ 6]\n",
      " [ 9]\n",
      " [12]\n",
      " [15]\n",
      " [18]]\n"
     ]
    }
   ],
   "source": [
    "arr5 = np.array([[1, 2, 3], [4, 5, 6], [7, 8, 9], [10, 11, 12], [13, 14, 15], [16, 17, 18]])\n",
    "newarr5 = np.hsplit(arr5, 3) \n",
    "print(\"Splitted 2D array along columns using hsplit():\")\n",
    "print(newarr5)\n",
    "print(newarr5[0])\n",
    "print(newarr5[1])\n",
    "print(newarr5[2])"
   ]
  },
  {
   "cell_type": "markdown",
   "id": "7b3b0fc5",
   "metadata": {},
   "source": [
    "similarly we ca split 3 dimensional and n dimensional arrays\n",
    "\n",
    "3D arrays have alternate of hstack() and dstack() methods, hsplit() and dsplit()"
   ]
  },
  {
   "cell_type": "code",
   "execution_count": 36,
   "id": "9c784552",
   "metadata": {},
   "outputs": [
    {
     "name": "stdout",
     "output_type": "stream",
     "text": [
      "(2, 3, 3)\n",
      "[[[1 2 3]\n",
      "  [4 5 6]\n",
      "  [7 8 9]]]\n",
      "[[[10 11 12]\n",
      "  [13 14 15]\n",
      "  [16 17 18]]]\n"
     ]
    }
   ],
   "source": [
    "arr6 = np.array([[[1, 2, 3], [4, 5, 6], [7, 8, 9]], [[10, 11, 12], [13, 14, 15], [16, 17, 18]]])\n",
    "print(arr6.shape) # checkinh if it is 3D array\n",
    "# newarr6 = np.dsplit(arr6, 3)\n",
    "# newarr6 = np.hsplit(arr6, 3)\n",
    "newarr6 = np.vsplit(arr6, 2)\n",
    "# print(newarr6)\n",
    "print(newarr6[0])\n",
    "print(newarr6[1])\n",
    "# print(newarr6[2])"
   ]
  }
 ],
 "metadata": {
  "kernelspec": {
   "display_name": "base",
   "language": "python",
   "name": "python3"
  },
  "language_info": {
   "codemirror_mode": {
    "name": "ipython",
    "version": 3
   },
   "file_extension": ".py",
   "mimetype": "text/x-python",
   "name": "python",
   "nbconvert_exporter": "python",
   "pygments_lexer": "ipython3",
   "version": "3.13.5"
  }
 },
 "nbformat": 4,
 "nbformat_minor": 5
}
