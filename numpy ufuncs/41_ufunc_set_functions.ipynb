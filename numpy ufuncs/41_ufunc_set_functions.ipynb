{
 "cells": [
  {
   "cell_type": "code",
   "execution_count": 1,
   "id": "1deeda9a",
   "metadata": {},
   "outputs": [],
   "source": [
    "import numpy as np"
   ]
  },
  {
   "cell_type": "markdown",
   "id": "998ebd51",
   "metadata": {},
   "source": [
    "A set in mathematics is a collection of unique elements.\n",
    "\n",
    "Sets are used for operations involving frequent intersection, union and difference operations."
   ]
  },
  {
   "cell_type": "markdown",
   "id": "fa380e71-ad86-4aae-824e-14926490a140",
   "metadata": {},
   "source": [
    "We can use NumPy's unique() method to find unique elements from any array. E.g. create a set array, but remember that the set arrays should only be 1-D arrays."
   ]
  },
  {
   "cell_type": "code",
   "execution_count": null,
   "id": "5dca26db-8a23-4c2e-b2f0-b46b8a4e82d5",
   "metadata": {},
   "outputs": [],
   "source": [
    "arr = np.array([1, 1, 1, 2, 3, 4, 5, 5, 6, 7])\n",
    "\n",
    "x = np.unique(arr)"
   ]
  },
  {
   "cell_type": "markdown",
   "id": "f8de71a2",
   "metadata": {},
   "source": [
    "**To find the unique values of two arrays, use the union1d() method.**"
   ]
  },
  {
   "cell_type": "code",
   "execution_count": 2,
   "id": "778798c6-f854-4e45-9500-e33e0d152d36",
   "metadata": {},
   "outputs": [
    {
     "name": "stdout",
     "output_type": "stream",
     "text": [
      "[1 2 3 4 5 6]\n"
     ]
    }
   ],
   "source": [
    "arr1 = np.array([1, 2, 3, 4])\n",
    "arr2 = np.array([3, 4, 5, 6])\n",
    "\n",
    "newarr = np.union1d(arr1, arr2)\n",
    "\n",
    "print(newarr)"
   ]
  },
  {
   "cell_type": "markdown",
   "id": "d316ebf1",
   "metadata": {},
   "source": [
    "**To find only the values that are present in both arrays, use the intersect1d() method.**"
   ]
  },
  {
   "cell_type": "code",
   "execution_count": 7,
   "id": "f91ef62d",
   "metadata": {},
   "outputs": [
    {
     "name": "stdout",
     "output_type": "stream",
     "text": [
      "[3 4]\n"
     ]
    }
   ],
   "source": [
    "newarr2 = np.intersect1d(arr1, arr2, assume_unique=True)\n",
    "print(newarr2)"
   ]
  },
  {
   "cell_type": "markdown",
   "id": "44b8443f",
   "metadata": {},
   "source": [
    "Note: the intersect1d() method takes an optional argument assume_unique, which if set to True can speed up computation. It should always be set to True when dealing with sets."
   ]
  },
  {
   "cell_type": "markdown",
   "id": "deefbfd4",
   "metadata": {},
   "source": [
    "To find only the values in the first set that is NOT present in the seconds set, use the setdiff1d() method."
   ]
  },
  {
   "cell_type": "code",
   "execution_count": 8,
   "id": "d3ef6879",
   "metadata": {},
   "outputs": [
    {
     "name": "stdout",
     "output_type": "stream",
     "text": [
      "[1 2]\n"
     ]
    }
   ],
   "source": [
    "newarr3 = np.setdiff1d(arr1, arr2)\n",
    "print(newarr3)"
   ]
  },
  {
   "cell_type": "markdown",
   "id": "650be9d7",
   "metadata": {},
   "source": [
    "**Finding Symmetric Difference**\n",
    "\n",
    "To find only the values that are NOT present in BOTH sets, use the setxor1d() method."
   ]
  },
  {
   "cell_type": "code",
   "execution_count": 9,
   "id": "cfdb21f3",
   "metadata": {},
   "outputs": [
    {
     "name": "stdout",
     "output_type": "stream",
     "text": [
      "[1 2 5 6]\n"
     ]
    }
   ],
   "source": [
    "newarr4 = np.setxor1d(arr1, arr2, assume_unique=True)\n",
    "print(newarr4)"
   ]
  }
 ],
 "metadata": {
  "kernelspec": {
   "display_name": "Python 3 (ipykernel)",
   "language": "python",
   "name": "python3"
  },
  "language_info": {
   "codemirror_mode": {
    "name": "ipython",
    "version": 3
   },
   "file_extension": ".py",
   "mimetype": "text/x-python",
   "name": "python",
   "nbconvert_exporter": "python",
   "pygments_lexer": "ipython3",
   "version": "3.13.0"
  }
 },
 "nbformat": 4,
 "nbformat_minor": 5
}
