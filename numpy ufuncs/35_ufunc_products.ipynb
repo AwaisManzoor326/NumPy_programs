{
 "cells": [
  {
   "cell_type": "code",
   "execution_count": 1,
   "id": "ec0c1434",
   "metadata": {},
   "outputs": [],
   "source": [
    "import numpy as np"
   ]
  },
  {
   "cell_type": "markdown",
   "id": "5d2ab164",
   "metadata": {},
   "source": [
    "**To find the product of the elements in an array, use the prod() function**"
   ]
  },
  {
   "cell_type": "code",
   "execution_count": null,
   "id": "5a35f4b5",
   "metadata": {},
   "outputs": [
    {
     "name": "stdout",
     "output_type": "stream",
     "text": [
      "24\n"
     ]
    }
   ],
   "source": [
    "# Find the product of the elements of this array:\n",
    "arr = np.array([1, 2, 3, 4])\n",
    "\n",
    "x = np.prod(arr) # 1*2*3*4\n",
    "print(x)"
   ]
  },
  {
   "cell_type": "code",
   "execution_count": null,
   "id": "221a4a3c",
   "metadata": {},
   "outputs": [
    {
     "name": "stdout",
     "output_type": "stream",
     "text": [
      "576\n"
     ]
    }
   ],
   "source": [
    "arr1 = np.array([1, 2, 3, 4])\n",
    "\n",
    "x = np.prod([arr, arr1]) # 1*2*3*4*1*2*3*4\n",
    "\n",
    "print(x)"
   ]
  },
  {
   "cell_type": "markdown",
   "id": "eaa58e02",
   "metadata": {},
   "source": [
    "**If you specify axis=1, NumPy will return the product of each array.**"
   ]
  },
  {
   "cell_type": "code",
   "execution_count": null,
   "id": "c9748842",
   "metadata": {},
   "outputs": [
    {
     "name": "stdout",
     "output_type": "stream",
     "text": [
      "[ 1  4  9 16]\n"
     ]
    }
   ],
   "source": [
    "print(np.prod([arr, arr1], axis=1))"
   ]
  },
  {
   "cell_type": "markdown",
   "id": "6463dae4",
   "metadata": {},
   "source": [
    "**Cummulative Product**\n",
    "\n",
    "Cummulative product means taking the product partially.\n",
    "\n",
    "E.g. The partial product of [1, 2, 3, 4] is [1, 1 * 2, 1* 2* 3, 1* 2* 3* 4] = [1, 2, 6, 24]\n",
    "\n",
    "Perfom partial product with the cumprod() function."
   ]
  },
  {
   "cell_type": "code",
   "execution_count": 12,
   "id": "9d42eef3",
   "metadata": {},
   "outputs": [
    {
     "name": "stdout",
     "output_type": "stream",
     "text": [
      "[ 1  2  6 24]\n",
      "[  1   2   6  24  24  48 144 576]\n",
      "[[ 1  2  6 24]\n",
      " [ 1  2  6 24]]\n"
     ]
    }
   ],
   "source": [
    "print(np.cumprod([arr1]))\n",
    "print(np.cumprod([arr1, arr]))\n",
    "print(np.cumprod([arr1, arr], axis=1))"
   ]
  }
 ],
 "metadata": {
  "kernelspec": {
   "display_name": "base",
   "language": "python",
   "name": "python3"
  },
  "language_info": {
   "codemirror_mode": {
    "name": "ipython",
    "version": 3
   },
   "file_extension": ".py",
   "mimetype": "text/x-python",
   "name": "python",
   "nbconvert_exporter": "python",
   "pygments_lexer": "ipython3",
   "version": "3.13.5"
  }
 },
 "nbformat": 4,
 "nbformat_minor": 5
}
