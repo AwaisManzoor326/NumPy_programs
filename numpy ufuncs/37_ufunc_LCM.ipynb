{
 "cells": [
  {
   "cell_type": "code",
   "execution_count": 1,
   "id": "b30e816e",
   "metadata": {},
   "outputs": [],
   "source": [
    "import numpy as np"
   ]
  },
  {
   "cell_type": "markdown",
   "id": "212375a1",
   "metadata": {},
   "source": [
    "**The Lowest Common Multiple is the smallest number that is a common multiple of two numbers.**"
   ]
  },
  {
   "cell_type": "code",
   "execution_count": null,
   "id": "306ee3d1",
   "metadata": {},
   "outputs": [
    {
     "name": "stdout",
     "output_type": "stream",
     "text": [
      "12\n"
     ]
    }
   ],
   "source": [
    "num1 = 3\n",
    "num2 = 4\n",
    "\n",
    "L1 = np.lcm(num1, num2)\n",
    "\n",
    "print(L1)\n",
    "\n",
    "#  because that is the lowest common multiple of both numbers (4*3=12 and 6*2=12)."
   ]
  },
  {
   "cell_type": "markdown",
   "id": "0c7a8ae4",
   "metadata": {},
   "source": [
    "To find the Lowest Common Multiple of all values in an array, you can use the **reduce()** method.\n",
    "\n",
    "The reduce() method will use the ufunc, in this case the lcm() function, on each element, and reduce the array by one dimension."
   ]
  },
  {
   "cell_type": "code",
   "execution_count": 4,
   "id": "d1487573",
   "metadata": {},
   "outputs": [
    {
     "name": "stdout",
     "output_type": "stream",
     "text": [
      "18\n"
     ]
    }
   ],
   "source": [
    "arr1 = np.array([6, 3, 9])\n",
    "\n",
    "L2 = np.lcm.reduce(arr1)\n",
    "\n",
    "print(L2)"
   ]
  },
  {
   "cell_type": "code",
   "execution_count": 7,
   "id": "8a4d8637",
   "metadata": {},
   "outputs": [
    {
     "name": "stdout",
     "output_type": "stream",
     "text": [
      "2520\n"
     ]
    }
   ],
   "source": [
    "arr2 = np.arange(1, 11)\n",
    "\n",
    "L3 = np.lcm.reduce(arr2)\n",
    "print(L3)"
   ]
  },
  {
   "cell_type": "code",
   "execution_count": 13,
   "id": "41c5acc3",
   "metadata": {},
   "outputs": [
    {
     "name": "stdout",
     "output_type": "stream",
     "text": [
      "[12 63]\n",
      "[ 6 36 42]\n"
     ]
    }
   ],
   "source": [
    "arr3 = np.array([[2, 4, 6], [3, 9, 7]])\n",
    "print(np.lcm.reduce(arr3, axis=1))\n",
    "print(np.lcm.reduce(arr3, axis=0))"
   ]
  }
 ],
 "metadata": {
  "kernelspec": {
   "display_name": "base",
   "language": "python",
   "name": "python3"
  },
  "language_info": {
   "codemirror_mode": {
    "name": "ipython",
    "version": 3
   },
   "file_extension": ".py",
   "mimetype": "text/x-python",
   "name": "python",
   "nbconvert_exporter": "python",
   "pygments_lexer": "ipython3",
   "version": "3.13.5"
  }
 },
 "nbformat": 4,
 "nbformat_minor": 5
}
