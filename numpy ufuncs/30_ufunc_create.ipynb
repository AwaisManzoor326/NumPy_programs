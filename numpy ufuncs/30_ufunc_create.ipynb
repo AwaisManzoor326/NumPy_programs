{
 "cells": [
  {
   "cell_type": "code",
   "execution_count": 1,
   "id": "d15b3e98",
   "metadata": {},
   "outputs": [],
   "source": [
    "import numpy as np"
   ]
  },
  {
   "cell_type": "markdown",
   "id": "a6f57f50",
   "metadata": {},
   "source": [
    "To create your own ufunc, you have to define a function, like you do with normal functions in Python, then you add it to your NumPy ufunc library with the **frompyfunc()** method.\n",
    "\n"
   ]
  },
  {
   "cell_type": "markdown",
   "id": "e5c9ec03",
   "metadata": {},
   "source": [
    "The **frompyfunc()** method takes the following arguments:\n",
    "\n",
    "**function** - the name of the function.\n",
    "\n",
    "**inputs** - the number of input arguments (arrays).\n",
    "\n",
    "**outputs** - the number of output arrays."
   ]
  },
  {
   "cell_type": "code",
   "execution_count": 3,
   "id": "2609668b",
   "metadata": {},
   "outputs": [
    {
     "name": "stdout",
     "output_type": "stream",
     "text": [
      "[2 4 6]\n"
     ]
    }
   ],
   "source": [
    "def myadd(x, y):\n",
    "    return x+y\n",
    "\n",
    "add = np.frompyfunc(myadd, 2, 1)\n",
    "\n",
    "print(add([1, 2, 3], [1, 2, 3]))"
   ]
  },
  {
   "cell_type": "markdown",
   "id": "1f255596",
   "metadata": {},
   "source": [
    "Check the type of a function to check if it is a ufunc or not.\n",
    "\n",
    "A ufunc should return <class 'numpy.ufunc'>."
   ]
  },
  {
   "cell_type": "code",
   "execution_count": null,
   "id": "1509d303",
   "metadata": {},
   "outputs": [
    {
     "name": "stdout",
     "output_type": "stream",
     "text": [
      "<class 'numpy.ufunc'>\n",
      "<class 'numpy._ArrayFunctionDispatcher'>\n",
      "<class 'function'>\n"
     ]
    }
   ],
   "source": [
    "print(type(np.add))\n",
    "print(type(np.concatenate))\n",
    "print(type(myadd))\n",
    "# print(type(np.blahblah))   #error\n"
   ]
  },
  {
   "cell_type": "markdown",
   "id": "a38a2064",
   "metadata": {},
   "source": [
    "**To test if the function is a ufunc in an if statement, use the numpy.ufunc value (or np.ufunc if you use np as an alias for numpy):**"
   ]
  },
  {
   "cell_type": "code",
   "execution_count": 12,
   "id": "e8742250",
   "metadata": {},
   "outputs": [
    {
     "name": "stdout",
     "output_type": "stream",
     "text": [
      "it is not a ufunc\n"
     ]
    }
   ],
   "source": [
    "if (type(np.concatenate) == np.ufunc):\n",
    "    print(\"it is a ufunc of add\")\n",
    "else:\n",
    "    print(\"it is not a ufunc\")"
   ]
  }
 ],
 "metadata": {
  "kernelspec": {
   "display_name": "base",
   "language": "python",
   "name": "python3"
  },
  "language_info": {
   "codemirror_mode": {
    "name": "ipython",
    "version": 3
   },
   "file_extension": ".py",
   "mimetype": "text/x-python",
   "name": "python",
   "nbconvert_exporter": "python",
   "pygments_lexer": "ipython3",
   "version": "3.13.5"
  }
 },
 "nbformat": 4,
 "nbformat_minor": 5
}
