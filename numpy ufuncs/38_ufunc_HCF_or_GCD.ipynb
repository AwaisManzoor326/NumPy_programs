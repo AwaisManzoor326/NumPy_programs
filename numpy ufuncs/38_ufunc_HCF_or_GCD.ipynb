{
 "cells": [
  {
   "cell_type": "code",
   "execution_count": 1,
   "id": "23664b4c",
   "metadata": {},
   "outputs": [],
   "source": [
    "import numpy as np"
   ]
  },
  {
   "cell_type": "markdown",
   "id": "e8cecedc",
   "metadata": {},
   "source": [
    "**The GCD (Greatest Common Divisor), also known as HCF (Highest Common Factor) is the biggest number that is a common factor of both of the numbers.**"
   ]
  },
  {
   "cell_type": "code",
   "execution_count": null,
   "id": "adfd5e26",
   "metadata": {},
   "outputs": [
    {
     "name": "stdout",
     "output_type": "stream",
     "text": [
      "2\n"
     ]
    }
   ],
   "source": [
    "n1 = 22\n",
    "n2 = 26\n",
    "\n",
    "h1 = np.gcd(n1, n2)\n",
    "print(h1)\n",
    "\n",
    "# Returns: 2 because that is the highest number both numbers can be divided by (22/2=11 and 26/2=13)."
   ]
  },
  {
   "cell_type": "markdown",
   "id": "25f5420c",
   "metadata": {},
   "source": [
    "To find the Highest Common Factor of all values in an array, you can use the reduce() method.\n",
    "\n",
    "The reduce() method will use the ufunc, in this case the gcd() function, on each element, and reduce the array by one dimension."
   ]
  },
  {
   "cell_type": "code",
   "execution_count": null,
   "id": "def011a4",
   "metadata": {},
   "outputs": [
    {
     "name": "stdout",
     "output_type": "stream",
     "text": [
      "6\n"
     ]
    }
   ],
   "source": [
    "arr1 = np.array([12, 30, 36])\n",
    "h2 = np.gcd.reduce(arr1)\n",
    "print(h2)"
   ]
  },
  {
   "cell_type": "code",
   "execution_count": 8,
   "id": "467d5cbe",
   "metadata": {},
   "outputs": [
    {
     "name": "stdout",
     "output_type": "stream",
     "text": [
      "[2 2]\n",
      "[4 6 2]\n"
     ]
    }
   ],
   "source": [
    "arr2 = np.array([[36, 42, 56], [64, 78, 94]])\n",
    "h3 = np.gcd.reduce(arr2, axis=1)\n",
    "h4 = np.gcd.reduce(arr2, axis=0)\n",
    "print(h3)\n",
    "print(h4)"
   ]
  }
 ],
 "metadata": {
  "kernelspec": {
   "display_name": "base",
   "language": "python",
   "name": "python3"
  },
  "language_info": {
   "codemirror_mode": {
    "name": "ipython",
    "version": 3
   },
   "file_extension": ".py",
   "mimetype": "text/x-python",
   "name": "python",
   "nbconvert_exporter": "python",
   "pygments_lexer": "ipython3",
   "version": "3.13.5"
  }
 },
 "nbformat": 4,
 "nbformat_minor": 5
}
