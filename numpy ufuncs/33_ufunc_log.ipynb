{
 "cells": [
  {
   "cell_type": "code",
   "execution_count": 1,
   "id": "31711644",
   "metadata": {},
   "outputs": [],
   "source": [
    "import numpy as np"
   ]
  },
  {
   "cell_type": "markdown",
   "id": "1a6f594d",
   "metadata": {},
   "source": [
    "**Logs**\n",
    "\n",
    "NumPy provides functions to perform log at the base 2, e and 10.\n",
    "\n",
    "We will also explore how we can take log for any base by creating a custom ufunc.\n",
    "\n",
    "All of the log functions will place -inf or inf in the elements if the log can not be computed."
   ]
  },
  {
   "cell_type": "markdown",
   "id": "155faed3",
   "metadata": {},
   "source": [
    "**Log at Base 2**"
   ]
  },
  {
   "cell_type": "code",
   "execution_count": 4,
   "id": "8aabff56",
   "metadata": {},
   "outputs": [
    {
     "name": "stdout",
     "output_type": "stream",
     "text": [
      "[1 2 3 4 5 6 7 8 9]\n",
      "[0.         1.         1.5849625  2.         2.32192809 2.5849625\n",
      " 2.80735492 3.         3.169925  ]\n"
     ]
    }
   ],
   "source": [
    "ar = np.arange(1, 10) # return array of integers from 1 to 9\n",
    "print(ar)\n",
    "print(np.log2(ar))"
   ]
  },
  {
   "cell_type": "markdown",
   "id": "1d257269",
   "metadata": {},
   "source": [
    "**Log at Base 10**"
   ]
  },
  {
   "cell_type": "code",
   "execution_count": 5,
   "id": "60a9ca55",
   "metadata": {},
   "outputs": [
    {
     "name": "stdout",
     "output_type": "stream",
     "text": [
      "[1 2 3 4 5 6 7 8 9]\n",
      "[0.         0.30103    0.47712125 0.60205999 0.69897    0.77815125\n",
      " 0.84509804 0.90308999 0.95424251]\n"
     ]
    }
   ],
   "source": [
    "print(ar)\n",
    "print(np.log10(ar))"
   ]
  },
  {
   "cell_type": "markdown",
   "id": "2057f103",
   "metadata": {},
   "source": [
    "**Natural Log, or Log at Base e**"
   ]
  },
  {
   "cell_type": "code",
   "execution_count": 6,
   "id": "71e83eae",
   "metadata": {},
   "outputs": [
    {
     "name": "stdout",
     "output_type": "stream",
     "text": [
      "[1 2 3 4 5 6 7 8 9]\n",
      "[0.         0.69314718 1.09861229 1.38629436 1.60943791 1.79175947\n",
      " 1.94591015 2.07944154 2.19722458]\n"
     ]
    }
   ],
   "source": [
    "print(ar)\n",
    "print(np.log(ar))"
   ]
  },
  {
   "cell_type": "markdown",
   "id": "f9724777",
   "metadata": {},
   "source": [
    "**Log at Any Base**\n",
    "\n",
    "NumPy does not provide any function to take log at any base, so we can use the frompyfunc() function along with inbuilt function math.log() with two input parameters and one output parameter:"
   ]
  },
  {
   "cell_type": "code",
   "execution_count": 9,
   "id": "b77b1f8e",
   "metadata": {},
   "outputs": [
    {
     "name": "stdout",
     "output_type": "stream",
     "text": [
      "1.0\n"
     ]
    }
   ],
   "source": [
    "from math import log\n",
    "\n",
    "nplog = np.frompyfunc(log, 2, 1)\n",
    "\n",
    "print(nplog(5, 5))"
   ]
  }
 ],
 "metadata": {
  "kernelspec": {
   "display_name": "base",
   "language": "python",
   "name": "python3"
  },
  "language_info": {
   "codemirror_mode": {
    "name": "ipython",
    "version": 3
   },
   "file_extension": ".py",
   "mimetype": "text/x-python",
   "name": "python",
   "nbconvert_exporter": "python",
   "pygments_lexer": "ipython3",
   "version": "3.13.5"
  }
 },
 "nbformat": 4,
 "nbformat_minor": 5
}
