{
 "cells": [
  {
   "cell_type": "code",
   "execution_count": 1,
   "id": "deb4163d",
   "metadata": {},
   "outputs": [],
   "source": [
    "import numpy as np"
   ]
  },
  {
   "cell_type": "markdown",
   "id": "c76f1c2e",
   "metadata": {},
   "source": [
    "A discrete difference means subtracting two successive elements.\n",
    "\n",
    "E.g. for [1, 2, 3, 4], the discrete difference would be [2-1, 3-2, 4-3] = [1, 1, 1]\n",
    "\n",
    "To find the discrete difference, use the diff() function."
   ]
  },
  {
   "cell_type": "code",
   "execution_count": 7,
   "id": "d2ed21c9",
   "metadata": {},
   "outputs": [
    {
     "name": "stdout",
     "output_type": "stream",
     "text": [
      "[ 22 -33  55 -33]\n"
     ]
    }
   ],
   "source": [
    "arr1 = np.array([34, 56, 23, 78, 45])\n",
    "\n",
    "dif1 = np.diff(arr1)\n",
    "\n",
    "print(dif1)"
   ]
  },
  {
   "cell_type": "markdown",
   "id": "7b879aaf",
   "metadata": {},
   "source": [
    "**We can perform this operation repeatedly by giving parameter n.**"
   ]
  },
  {
   "cell_type": "code",
   "execution_count": 8,
   "id": "c44cffc8",
   "metadata": {},
   "outputs": [
    {
     "name": "stdout",
     "output_type": "stream",
     "text": [
      "[-319]\n"
     ]
    }
   ],
   "source": [
    "print(np.diff(arr1, n=4))"
   ]
  }
 ],
 "metadata": {
  "kernelspec": {
   "display_name": "base",
   "language": "python",
   "name": "python3"
  },
  "language_info": {
   "codemirror_mode": {
    "name": "ipython",
    "version": 3
   },
   "file_extension": ".py",
   "mimetype": "text/x-python",
   "name": "python",
   "nbconvert_exporter": "python",
   "pygments_lexer": "ipython3",
   "version": "3.13.5"
  }
 },
 "nbformat": 4,
 "nbformat_minor": 5
}
