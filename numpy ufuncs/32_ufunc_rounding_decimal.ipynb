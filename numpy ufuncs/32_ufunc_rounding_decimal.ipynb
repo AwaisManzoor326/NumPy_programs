{
 "cells": [
  {
   "cell_type": "code",
   "execution_count": 1,
   "id": "9c612d44",
   "metadata": {},
   "outputs": [],
   "source": [
    "import numpy as np"
   ]
  },
  {
   "cell_type": "markdown",
   "id": "cb5afafa",
   "metadata": {},
   "source": [
    "There are primarily five ways of rounding off decimals in NumPy:\n",
    "\n",
    "**-->truncation**\n",
    "    \n",
    "**-->fix**\n",
    "    \n",
    "**-->rounding**\n",
    "    \n",
    "**-->floor**\n",
    "    \n",
    "**-->ceil**"
   ]
  },
  {
   "cell_type": "markdown",
   "id": "13e52f22",
   "metadata": {},
   "source": [
    "**Truncation**\n",
    "\n",
    "Remove the decimals, and return the float number closest to zero. Use the **trunc()** and **fix()** functions."
   ]
  },
  {
   "cell_type": "code",
   "execution_count": null,
   "id": "17fd4842",
   "metadata": {},
   "outputs": [
    {
     "name": "stdout",
     "output_type": "stream",
     "text": [
      "[-3.  3.]\n",
      "[-3.  3.]\n"
     ]
    }
   ],
   "source": [
    "arr1 = np.array([-3.1666, 3.6667])\n",
    "\n",
    "print(np.trunc(arr1))\n",
    "\n",
    "print(np.fix(arr1))\n"
   ]
  },
  {
   "cell_type": "markdown",
   "id": "000ef1b3",
   "metadata": {},
   "source": [
    "**Rounding**\n",
    "\n",
    "The **around()** function increments preceding digit or decimal by 1 if >=5 else do nothing.\n",
    "\n",
    "E.g. round off to 1 decimal point, 3.16666 is 3.2"
   ]
  },
  {
   "cell_type": "code",
   "execution_count": 15,
   "id": "997dcbbf",
   "metadata": {},
   "outputs": [
    {
     "name": "stdout",
     "output_type": "stream",
     "text": [
      "[3.2]\n",
      "[3.2]\n",
      "[3.1]\n"
     ]
    }
   ],
   "source": [
    "print(np.around([3.1666], 1))\n",
    "print(np.around([3.155], 1))\n",
    "print(np.around([3.144], 1))"
   ]
  },
  {
   "cell_type": "markdown",
   "id": "59f22f51",
   "metadata": {},
   "source": [
    "The **floor()** function rounds off decimal to nearest lower integer."
   ]
  },
  {
   "cell_type": "code",
   "execution_count": 17,
   "id": "c84227d5",
   "metadata": {},
   "outputs": [
    {
     "name": "stdout",
     "output_type": "stream",
     "text": [
      "[3. 3. 3. 3.]\n"
     ]
    }
   ],
   "source": [
    "print(np.floor([3.96, 3.94, 3.43, 3.46]))"
   ]
  },
  {
   "cell_type": "markdown",
   "id": "0135e2a1",
   "metadata": {},
   "source": [
    "The **ceil()** function rounds off decimal to nearest upper integer."
   ]
  },
  {
   "cell_type": "code",
   "execution_count": 19,
   "id": "4d18c921",
   "metadata": {},
   "outputs": [
    {
     "name": "stdout",
     "output_type": "stream",
     "text": [
      "[4. 4. 4. 4.]\n",
      "[4. 4. 3. 3.]\n"
     ]
    }
   ],
   "source": [
    "print(np.ceil([3.96, 3.94, 3.43, 3.46]))\n",
    "print(np.around([3.96, 3.94, 3.43, 3.46]))"
   ]
  }
 ],
 "metadata": {
  "kernelspec": {
   "display_name": "base",
   "language": "python",
   "name": "python3"
  },
  "language_info": {
   "codemirror_mode": {
    "name": "ipython",
    "version": 3
   },
   "file_extension": ".py",
   "mimetype": "text/x-python",
   "name": "python",
   "nbconvert_exporter": "python",
   "pygments_lexer": "ipython3",
   "version": "3.13.5"
  }
 },
 "nbformat": 4,
 "nbformat_minor": 5
}
