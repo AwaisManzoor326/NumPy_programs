{
 "cells": [
  {
   "cell_type": "code",
   "execution_count": 1,
   "id": "898f9441",
   "metadata": {},
   "outputs": [],
   "source": [
    "import numpy as np"
   ]
  },
  {
   "cell_type": "markdown",
   "id": "20e41739",
   "metadata": {},
   "source": [
    "**Simple Arithmetic**\n",
    "\n",
    "You could use arithmetic operators + - * / directly between NumPy arrays, but this section discusses an extension of the same where we have functions that can take any array-like objects e.g. lists, tuples etc. and perform arithmetic conditionally.\n",
    "\n",
    "**Arithmetic Conditionally**: means that we can define conditions where the arithmetic operation should happen.\n",
    "\n",
    "All of the discussed arithmetic functions take a **where** parameter in which we can specify that condition."
   ]
  },
  {
   "cell_type": "code",
   "execution_count": 2,
   "id": "815251be",
   "metadata": {},
   "outputs": [
    {
     "name": "stdout",
     "output_type": "stream",
     "text": [
      "[30 32 34 36 38 40]\n"
     ]
    }
   ],
   "source": [
    "arr1 = np.array([10, 11, 12, 13, 14, 15])\n",
    "arr2 = np.array([20, 21, 22, 23, 24, 25])\n",
    "\n",
    "newarr = np.add(arr1, arr2)\n",
    "\n",
    "print(newarr)"
   ]
  },
  {
   "cell_type": "code",
   "execution_count": 3,
   "id": "8e582089",
   "metadata": {},
   "outputs": [
    {
     "name": "stdout",
     "output_type": "stream",
     "text": [
      "[-10 -10 -10 -10 -10 -10]\n"
     ]
    }
   ],
   "source": [
    "# Subtract the values in arr2 from the values in arr1:\n",
    "\n",
    "newarr2 = np.subtract(arr1, arr2)\n",
    "print(newarr2)"
   ]
  },
  {
   "cell_type": "code",
   "execution_count": 4,
   "id": "4699299c",
   "metadata": {},
   "outputs": [
    {
     "name": "stdout",
     "output_type": "stream",
     "text": [
      "[200 231 264 299 336 375]\n"
     ]
    }
   ],
   "source": [
    "# Multiply\n",
    "\n",
    "newarr3 = np.multiply(arr1, arr2)\n",
    "print(newarr3)"
   ]
  },
  {
   "cell_type": "code",
   "execution_count": null,
   "id": "c1f0424e",
   "metadata": {},
   "outputs": [
    {
     "name": "stdout",
     "output_type": "stream",
     "text": [
      "[ 3.33333333  4.          3.          5.         25.          1.81818182]\n"
     ]
    }
   ],
   "source": [
    "# divide values of arr1 from 2\n",
    "arr1 = np.array([10, 20, 30, 40, 50, 60])\n",
    "arr2 = np.array([3, 5, 10, 8, 2, 33])\n",
    "\n",
    "newarr4 = np.divide(arr1, arr2)\n",
    "print(newarr4)"
   ]
  },
  {
   "cell_type": "code",
   "execution_count": null,
   "id": "57bf3544",
   "metadata": {},
   "outputs": [
    {
     "name": "stdout",
     "output_type": "stream",
     "text": [
      "[1000 3200000 590490000000000 6553600000000 2500\n",
      " 47751966659678405306351616000000000000000000000000000000000]\n"
     ]
    }
   ],
   "source": [
    "#  POWER: Raise the valules in arr1 to the power of values in arr2:\n",
    "newarr5 = np.power(arr1, arr2, dtype=object)\n",
    "print(newarr5)\n",
    "\n",
    "# numpy datatype ka size int 32 ya int64 e ho skta ha jb k python unlimeted sized values ko b handle kr sktahay is liya dtype=object k ilava agr run kro to 60**33 0 output dayta hay\n"
   ]
  },
  {
   "cell_type": "markdown",
   "id": "4e4da089",
   "metadata": {},
   "source": [
    "Both the mod() and the remainder() functions return the remainder of the values in the first array corresponding to the values in the second array, and return the results in a new array."
   ]
  },
  {
   "cell_type": "code",
   "execution_count": 10,
   "id": "7c321899",
   "metadata": {},
   "outputs": [
    {
     "name": "stdout",
     "output_type": "stream",
     "text": [
      "[ 1  0  0  0  0 27]\n"
     ]
    }
   ],
   "source": [
    "# newarr6 = np.mod(arr1, arr2)\n",
    "newarr6 = np.remainder(arr1, arr2)\n",
    "print(newarr6)"
   ]
  },
  {
   "cell_type": "markdown",
   "id": "f858b09f",
   "metadata": {},
   "source": [
    "The divmod() function return both the quotient and the mod. The return value is two arrays, the first array contains the quotient and second array contains the mod."
   ]
  },
  {
   "cell_type": "code",
   "execution_count": 14,
   "id": "67e32d39",
   "metadata": {},
   "outputs": [
    {
     "name": "stdout",
     "output_type": "stream",
     "text": [
      "Quotients:  [ 3  4  3  5 25  1]\n",
      "Remainders: [ 1  0  0  0  0 27]\n"
     ]
    }
   ],
   "source": [
    "newarr7 = np.divmod(arr1, arr2)\n",
    "print(f\"Quotients:  {newarr7[0]}\")\n",
    "print(f\"Remainders: {newarr7[1]}\")"
   ]
  },
  {
   "cell_type": "markdown",
   "id": "2e8de346",
   "metadata": {},
   "source": [
    "Both the absolute() and the abs() functions do the same absolute operation element-wise but we should use absolute() to avoid confusion with python's inbuilt math.abs()"
   ]
  },
  {
   "cell_type": "code",
   "execution_count": 15,
   "id": "433954aa",
   "metadata": {},
   "outputs": [
    {
     "name": "stdout",
     "output_type": "stream",
     "text": [
      "[1 2 1 2 3 4]\n"
     ]
    }
   ],
   "source": [
    "arr = np.array([-1, -2, 1, 2, 3, -4])\n",
    "newarr8 = np.absolute(arr)\n",
    "print(newarr8)"
   ]
  }
 ],
 "metadata": {
  "kernelspec": {
   "display_name": "base",
   "language": "python",
   "name": "python3"
  },
  "language_info": {
   "codemirror_mode": {
    "name": "ipython",
    "version": 3
   },
   "file_extension": ".py",
   "mimetype": "text/x-python",
   "name": "python",
   "nbconvert_exporter": "python",
   "pygments_lexer": "ipython3",
   "version": "3.13.5"
  }
 },
 "nbformat": 4,
 "nbformat_minor": 5
}
