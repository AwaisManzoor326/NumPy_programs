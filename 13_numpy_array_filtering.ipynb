{
 "cells": [
  {
   "cell_type": "code",
   "execution_count": 1,
   "id": "b59fd237",
   "metadata": {},
   "outputs": [],
   "source": [
    "import numpy as np"
   ]
  },
  {
   "cell_type": "markdown",
   "id": "e59c15aa",
   "metadata": {},
   "source": [
    "**Getting some elements out of an existing array and creating a new array out of them is called filtering.**\n",
    "\n",
    "In NumPy, you filter an array using a boolean index list.\n",
    "\n",
    "**A boolean index list is a list of booleans corresponding to indexes in the array.**\n",
    "\n",
    "If the value at an index is True that element is contained in the filtered array, if the value at that index is False that element is excluded from the filtered array."
   ]
  },
  {
   "cell_type": "code",
   "execution_count": 4,
   "id": "e1444fa4",
   "metadata": {},
   "outputs": [
    {
     "name": "stdout",
     "output_type": "stream",
     "text": [
      "[2 4 6]\n"
     ]
    }
   ],
   "source": [
    "arr = np.array([1, 2, 3, 4, 5, 6])\n",
    "f_arr = [False, True, False, True, False, True]\n",
    "\n",
    "# print(arr[f_arr])  \n",
    "\n",
    "newarr_f = arr[f_arr]\n",
    "print(newarr_f)\n"
   ]
  },
  {
   "cell_type": "markdown",
   "id": "6c7ebb11",
   "metadata": {},
   "source": [
    "**Make a filtered array containing only numbers > 50**"
   ]
  },
  {
   "cell_type": "code",
   "execution_count": 5,
   "id": "0e524ea3",
   "metadata": {},
   "outputs": [
    {
     "name": "stdout",
     "output_type": "stream",
     "text": [
      "[60 67 89 90]\n"
     ]
    }
   ],
   "source": [
    "arr1 = np.array([41, 42, 43, 44, 48, 50, 60, 67, 45, 89, 90])\n",
    "\n",
    "f_arr1 = []\n",
    "\n",
    "for element in arr1:\n",
    "    if element > 50:\n",
    "        f_arr1.append(True)\n",
    "    else:\n",
    "        f_arr1.append(False)\n",
    "newarr1_f = arr1[f_arr1]\n",
    "print(newarr1_f)"
   ]
  },
  {
   "cell_type": "markdown",
   "id": "fba0e7a1",
   "metadata": {},
   "source": [
    "**there are more precise ways to do all these filterations**"
   ]
  },
  {
   "cell_type": "code",
   "execution_count": 6,
   "id": "de972446",
   "metadata": {},
   "outputs": [
    {
     "name": "stdout",
     "output_type": "stream",
     "text": [
      "[60 67 89 90]\n"
     ]
    }
   ],
   "source": [
    "f_ar2 = arr1 > 50\n",
    "newarr2_f = arr1[f_ar2]\n",
    "print(newarr2_f)"
   ]
  },
  {
   "cell_type": "code",
   "execution_count": 7,
   "id": "212b9d81",
   "metadata": {},
   "outputs": [
    {
     "name": "stdout",
     "output_type": "stream",
     "text": [
      "[42 44 48 50 60 90]\n"
     ]
    }
   ],
   "source": [
    "f_arr2 = arr1%2 == 0\n",
    "newarr3_f = arr1[f_arr2]\n",
    "print(newarr3_f)"
   ]
  }
 ],
 "metadata": {
  "kernelspec": {
   "display_name": "base",
   "language": "python",
   "name": "python3"
  },
  "language_info": {
   "codemirror_mode": {
    "name": "ipython",
    "version": 3
   },
   "file_extension": ".py",
   "mimetype": "text/x-python",
   "name": "python",
   "nbconvert_exporter": "python",
   "pygments_lexer": "ipython3",
   "version": "3.13.5"
  }
 },
 "nbformat": 4,
 "nbformat_minor": 5
}
