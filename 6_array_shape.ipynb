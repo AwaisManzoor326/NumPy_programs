{
 "cells": [
  {
   "cell_type": "code",
   "execution_count": 1,
   "id": "initial_id",
   "metadata": {
    "ExecuteTime": {
     "end_time": "2025-09-08T10:16:49.490001Z",
     "start_time": "2025-09-08T10:16:48.152598Z"
    },
    "collapsed": true
   },
   "outputs": [],
   "source": [
    "import numpy as np"
   ]
  },
  {
   "cell_type": "code",
   "execution_count": 2,
   "id": "327c4d1d",
   "metadata": {
    "ExecuteTime": {
     "end_time": "2025-09-08T10:16:49.532554Z",
     "start_time": "2025-09-08T10:16:49.522421Z"
    }
   },
   "outputs": [
    {
     "name": "stdout",
     "output_type": "stream",
     "text": [
      "(5,)\n"
     ]
    }
   ],
   "source": [
    "arr = np.array([1, 2, 3, 4, 5])\n",
    "print(arr.shape)\n",
    "# shape method tells about dimensions, colums. in 1D arrays it tells about columns, in 2D arrays it tells about rows and columns and in 3D arrays it tells about blocks, rows in each block and columns in each row."
   ]
  },
  {
   "cell_type": "code",
   "id": "7f650cb8",
   "metadata": {
    "ExecuteTime": {
     "end_time": "2025-09-08T10:21:45.606246Z",
     "start_time": "2025-09-08T10:21:45.598837Z"
    }
   },
   "source": [
    "arr2 = np.array([[1, 2, 3], [4, 5, 6], [7, 8, 9]])\n",
    "print(arr2.shape)"
   ],
   "outputs": [
    {
     "name": "stdout",
     "output_type": "stream",
     "text": [
      "(3, 3)\n"
     ]
    }
   ],
   "execution_count": 4
  },
  {
   "metadata": {
    "ExecuteTime": {
     "end_time": "2025-09-08T10:24:45.403216Z",
     "start_time": "2025-09-08T10:24:45.396660Z"
    }
   },
   "cell_type": "code",
   "source": [
    "arr3 = np.array([[[1, 2, 3], [4, 5, 6], [7, 8, 9]], [[1, 2, 3], [4, 5, 6], [7, 8, 9]]])\n",
    "print(arr3.shape)"
   ],
   "id": "70ea83ccc2d832a",
   "outputs": [
    {
     "name": "stdout",
     "output_type": "stream",
     "text": [
      "(2, 3, 3)\n"
     ]
    }
   ],
   "execution_count": 9
  },
  {
   "metadata": {
    "ExecuteTime": {
     "end_time": "2025-09-08T10:26:02.666703Z",
     "start_time": "2025-09-08T10:26:02.656508Z"
    }
   },
   "cell_type": "code",
   "source": [
    "arr4 = np.array([1, 2, 3, 4, 5], ndmin=5)\n",
    "print(arr4.shape)"
   ],
   "id": "c3eb5660338bf63a",
   "outputs": [
    {
     "name": "stdout",
     "output_type": "stream",
     "text": [
      "(1, 1, 1, 1, 5)\n"
     ]
    }
   ],
   "execution_count": 10
  }
 ],
 "metadata": {
  "kernelspec": {
   "display_name": "base",
   "language": "python",
   "name": "python3"
  },
  "language_info": {
   "codemirror_mode": {
    "name": "ipython",
    "version": 3
   },
   "file_extension": ".py",
   "mimetype": "text/x-python",
   "name": "python",
   "nbconvert_exporter": "python",
   "pygments_lexer": "ipython3",
   "version": "3.13.5"
  }
 },
 "nbformat": 4,
 "nbformat_minor": 5
}
