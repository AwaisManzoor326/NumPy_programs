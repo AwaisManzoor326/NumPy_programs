{
 "cells": [
  {
   "cell_type": "code",
   "execution_count": 1,
   "id": "65f26888",
   "metadata": {},
   "outputs": [],
   "source": [
    "import numpy as np"
   ]
  },
  {
   "cell_type": "markdown",
   "id": "b7d8b3c1",
   "metadata": {},
   "source": [
    "we can search an array for particular vallue. It will return index of element if available"
   ]
  },
  {
   "cell_type": "code",
   "execution_count": 4,
   "id": "20989e1c",
   "metadata": {},
   "outputs": [],
   "source": [
    "arr1 = np.array([1, 2, 3, 4, 5, 6, 7, 8, 9, 4, 2, 6, 7, 3 , 4])\n"
   ]
  },
  {
   "cell_type": "code",
   "execution_count": 5,
   "id": "50ad8083",
   "metadata": {},
   "outputs": [
    {
     "name": "stdout",
     "output_type": "stream",
     "text": [
      "Index of elements equal to 4: (array([ 3,  9, 14]),)\n"
     ]
    }
   ],
   "source": [
    "f1 = np.where(arr1 == 4) # it will return index of all the elements matching the condition\n",
    "print(\"Index of elements equal to 4:\", f1)"
   ]
  },
  {
   "cell_type": "code",
   "execution_count": 7,
   "id": "21a8b4d4",
   "metadata": {},
   "outputs": [
    {
     "name": "stdout",
     "output_type": "stream",
     "text": [
      "Index of even elements: (array([ 1,  3,  5,  7,  9, 10, 11, 14]),)\n"
     ]
    }
   ],
   "source": [
    "f2 = np.where(arr1 % 2 == 0) # it will return index of all the even elements\n",
    "print(\"Index of even elements:\", f2)"
   ]
  },
  {
   "cell_type": "code",
   "execution_count": 12,
   "id": "cbcaa69c",
   "metadata": {},
   "outputs": [
    {
     "name": "stdout",
     "output_type": "stream",
     "text": [
      "Even elements are:\n",
      "2 at index 1\n",
      "4 at index 3\n",
      "6 at index 5\n",
      "8 at index 7\n",
      "4 at index 9\n",
      "2 at index 10\n",
      "6 at index 11\n",
      "4 at index 14\n"
     ]
    }
   ],
   "source": [
    "for x in f2:\n",
    "    print(\"Even elements are:\")\n",
    "    for y in x:\n",
    "        print(f\"{arr1[y]} at index {y}\")"
   ]
  },
  {
   "cell_type": "markdown",
   "id": "17c0a57b",
   "metadata": {},
   "source": [
    "There is a method called searchsorted() which performs a binary search in the array, and returns the index where the specified value would be inserted to maintain the search order.\n",
    "\n",
    "Method is recommended to be used in sorted arrays"
   ]
  },
  {
   "cell_type": "code",
   "execution_count": 15,
   "id": "f24e8c77",
   "metadata": {},
   "outputs": [
    {
     "name": "stdout",
     "output_type": "stream",
     "text": [
      "9 can be inserted at index 4 to maintain the order\n"
     ]
    }
   ],
   "source": [
    "arr2 = np.array([1, 3, 5, 7, 9, 11, 13])\n",
    "s1 = np.searchsorted(arr2, 9)\n",
    "print(f\"9 can be inserted at index {s1} to maintain the order\")"
   ]
  },
  {
   "cell_type": "markdown",
   "id": "c49d8c94",
   "metadata": {},
   "source": [
    "**Find the indexes where the value 7 should be inserted, starting from the right:**"
   ]
  },
  {
   "cell_type": "code",
   "execution_count": 17,
   "id": "0a575998",
   "metadata": {},
   "outputs": [
    {
     "name": "stdout",
     "output_type": "stream",
     "text": [
      "9 should be inserted at index 5\n"
     ]
    }
   ],
   "source": [
    "s2 = np.searchsorted(arr2, 9, side='right')\n",
    "print(f\"9 should be inserted at index {s2}\")\n",
    "\n",
    "# side='left' → return karega 4 (pehli jagah jahan 9 fit hota hai).\n",
    "# side='right' → return karega 5 (9 ke baad wali jagah)."
   ]
  },
  {
   "cell_type": "markdown",
   "id": "5ed80fa6",
   "metadata": {},
   "source": [
    "**To search for more than one value, use an array with the specified values.**"
   ]
  },
  {
   "cell_type": "code",
   "execution_count": 19,
   "id": "38113bba",
   "metadata": {},
   "outputs": [
    {
     "name": "stdout",
     "output_type": "stream",
     "text": [
      "[ 1  3  5  7  9 11 13]\n",
      "2, 4, 6 should be inserted at indexes [1 2 3]\n"
     ]
    }
   ],
   "source": [
    "s3 = np.searchsorted(arr2, [2, 4, 6])\n",
    "print(arr2)\n",
    "print(f\"2, 4, 6 should be inserted at indexes {s3}\")"
   ]
  }
 ],
 "metadata": {
  "kernelspec": {
   "display_name": "base",
   "language": "python",
   "name": "python3"
  },
  "language_info": {
   "codemirror_mode": {
    "name": "ipython",
    "version": 3
   },
   "file_extension": ".py",
   "mimetype": "text/x-python",
   "name": "python",
   "nbconvert_exporter": "python",
   "pygments_lexer": "ipython3",
   "version": "3.13.5"
  }
 },
 "nbformat": 4,
 "nbformat_minor": 5
}
