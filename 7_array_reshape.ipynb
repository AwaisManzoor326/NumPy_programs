{
 "cells": [
  {
   "cell_type": "code",
   "id": "initial_id",
   "metadata": {
    "collapsed": true,
    "ExecuteTime": {
     "end_time": "2025-09-08T12:22:39.777047Z",
     "start_time": "2025-09-08T12:22:38.367231Z"
    }
   },
   "source": "import numpy as np",
   "outputs": [],
   "execution_count": 1
  },
  {
   "metadata": {
    "ExecuteTime": {
     "end_time": "2025-09-08T12:28:42.761159Z",
     "start_time": "2025-09-08T12:28:42.750539Z"
    }
   },
   "cell_type": "code",
   "source": [
    "arr1 = np.array([1, 2, 3, 4, 5, 6, 7, 8, 9, 10, 11, 12])\n",
    "# shape of an array is number of elements in each dimension\n",
    "new_arr = arr1.reshape(6, 2)  # 6 dimensions/rows and 2 columns in each row.\n",
    "print(new_arr)"
   ],
   "id": "e2cfba3859bd517a",
   "outputs": [
    {
     "name": "stdout",
     "output_type": "stream",
     "text": [
      "[[ 1  2]\n",
      " [ 3  4]\n",
      " [ 5  6]\n",
      " [ 7  8]\n",
      " [ 9 10]\n",
      " [11 12]]\n"
     ]
    }
   ],
   "execution_count": 6
  },
  {
   "metadata": {
    "ExecuteTime": {
     "end_time": "2025-09-08T12:32:54.692032Z",
     "start_time": "2025-09-08T12:32:54.686675Z"
    }
   },
   "cell_type": "code",
   "source": [
    "new_arr2 = arr1.reshape(2, 3, 2)\n",
    "print(new_arr2) # reshaped to 3D array, 2 blocks, 3 rows in each block and 2 columns in each row."
   ],
   "id": "303c4791f9ddbb2e",
   "outputs": [
    {
     "name": "stdout",
     "output_type": "stream",
     "text": [
      "[[[ 1  2]\n",
      "  [ 3  4]\n",
      "  [ 5  6]]\n",
      "\n",
      " [[ 7  8]\n",
      "  [ 9 10]\n",
      "  [11 12]]]\n"
     ]
    }
   ],
   "execution_count": 8
  },
  {
   "metadata": {
    "ExecuteTime": {
     "end_time": "2025-09-08T12:35:35.119016Z",
     "start_time": "2025-09-08T12:35:35.112194Z"
    }
   },
   "cell_type": "code",
   "source": [
    "arr = np.array([1, 2, 3, 4, 5, 6, 7, 8])\n",
    "print(arr.reshape(2, 4).base) # view: returns original array"
   ],
   "id": "c832f7279c4ac9f8",
   "outputs": [
    {
     "name": "stdout",
     "output_type": "stream",
     "text": [
      "[1 2 3 4 5 6 7 8]\n"
     ]
    }
   ],
   "execution_count": 9
  },
  {
   "metadata": {
    "ExecuteTime": {
     "end_time": "2025-09-08T12:40:36.270846Z",
     "start_time": "2025-09-08T12:40:36.265160Z"
    }
   },
   "cell_type": "code",
   "source": [
    "new_arr3 = arr.reshape(2, 2, -1) # we are allowed to give one dimension wrong, numpy will calculate it by itself\n",
    "print(new_arr3)"
   ],
   "id": "26fc23ce8846b2e7",
   "outputs": [
    {
     "name": "stdout",
     "output_type": "stream",
     "text": [
      "[[[1 2]\n",
      "  [3 4]]\n",
      "\n",
      " [[5 6]\n",
      "  [7 8]]]\n"
     ]
    }
   ],
   "execution_count": 11
  },
  {
   "metadata": {
    "ExecuteTime": {
     "end_time": "2025-09-08T12:45:34.558298Z",
     "start_time": "2025-09-08T12:45:34.551948Z"
    }
   },
   "cell_type": "code",
   "source": [
    "# Flattening array means converting a multidimensional array into a 1D array.\n",
    "arr2 = np.array([[1, 2, 3], [4, 5, 6]])\n",
    "new_arr4 = arr2.reshape(-1)\n",
    "print(new_arr4)"
   ],
   "id": "ba4688f63229fbd0",
   "outputs": [
    {
     "name": "stdout",
     "output_type": "stream",
     "text": [
      "[1 2 3 4 5 6]\n"
     ]
    }
   ],
   "execution_count": 20
  }
 ],
 "metadata": {
  "kernelspec": {
   "display_name": "Python 3",
   "language": "python",
   "name": "python3"
  },
  "language_info": {
   "codemirror_mode": {
    "name": "ipython",
    "version": 2
   },
   "file_extension": ".py",
   "mimetype": "text/x-python",
   "name": "python",
   "nbconvert_exporter": "python",
   "pygments_lexer": "ipython2",
   "version": "2.7.6"
  }
 },
 "nbformat": 4,
 "nbformat_minor": 5
}
