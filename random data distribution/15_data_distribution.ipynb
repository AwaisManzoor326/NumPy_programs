{
 "cells": [
  {
   "cell_type": "code",
   "execution_count": 1,
   "id": "26c5498c",
   "metadata": {},
   "outputs": [],
   "source": [
    "import numpy as np"
   ]
  },
  {
   "cell_type": "markdown",
   "id": "01abb812",
   "metadata": {},
   "source": [
    "**Data Distribution**\n",
    "\n",
    "Data distribution is a list of all possible values and how offen each value occurs."
   ]
  },
  {
   "cell_type": "markdown",
   "id": "2f3a1a43",
   "metadata": {},
   "source": [
    "**Random Distribution**\n",
    "\n",
    "is a set of random numbers that follow a certain probability density function.\n",
    "\n",
    "**probability density function**  describes a continuous probability ie. probability of all values in array"
   ]
  },
  {
   "cell_type": "code",
   "execution_count": 5,
   "id": "e9364f9c",
   "metadata": {},
   "outputs": [
    {
     "name": "stdout",
     "output_type": "stream",
     "text": [
      "[[[9 9 2 5 9 2 9 2 5 9]\n",
      "  [5 9 5 1 5 9 5 9 9 5]\n",
      "  [5 5 2 9 9 9 9 9 5 9]\n",
      "  [9 1 5 9 2 5 9 2 2 9]\n",
      "  [5 9 9 5 9 9 2 9 9 9]]\n",
      "\n",
      " [[5 9 9 1 1 1 9 9 1 9]\n",
      "  [9 1 9 9 1 5 5 5 5 2]\n",
      "  [9 2 5 9 2 5 9 9 5 5]\n",
      "  [2 2 9 5 9 9 5 1 9 1]\n",
      "  [2 9 5 5 5 9 5 9 5 2]]\n",
      "\n",
      " [[1 1 5 9 1 2 9 9 5 5]\n",
      "  [9 9 9 5 9 1 9 1 1 9]\n",
      "  [2 5 2 5 5 5 2 9 1 5]\n",
      "  [2 5 9 5 2 9 9 2 5 9]\n",
      "  [9 2 1 1 2 1 2 9 9 2]]\n",
      "\n",
      " [[5 1 9 9 1 5 9 2 2 2]\n",
      "  [9 9 2 5 9 5 9 1 1 5]\n",
      "  [9 9 2 9 5 5 9 5 2 5]\n",
      "  [5 2 9 9 5 1 1 1 2 2]\n",
      "  [5 2 9 5 9 9 5 5 5 5]]\n",
      "\n",
      " [[9 9 2 5 9 9 5 5 9 9]\n",
      "  [5 2 5 2 9 9 9 9 1 2]\n",
      "  [9 9 9 1 2 9 5 5 2 9]\n",
      "  [1 2 2 9 5 9 5 5 9 1]\n",
      "  [9 5 5 9 9 2 9 9 9 2]]]\n"
     ]
    }
   ],
   "source": [
    "r1 = np.random.choice([2, 5, 9, 1], p=[0.2, 0.3, 0.4, 0.1], size=(5, 5, 10))\n",
    "print(r1)"
   ]
  },
  {
   "cell_type": "markdown",
   "id": "fbc8615d",
   "metadata": {},
   "source": [
    "We can generate random numbers based on defined probabilities using the choice() method of the random module.\n",
    "\n",
    "The choice() method allows us to specify the probability for each value.\n",
    "\n",
    "The probability is set by a number between 0 and 1, where 0 means that the value will never occur and 1 means that the value will always occur."
   ]
  },
  {
   "cell_type": "markdown",
   "id": "c5f7a043",
   "metadata": {},
   "source": [
    "**The sum of all probability numbers should be 1.**"
   ]
  }
 ],
 "metadata": {
  "kernelspec": {
   "display_name": "base",
   "language": "python",
   "name": "python3"
  },
  "language_info": {
   "codemirror_mode": {
    "name": "ipython",
    "version": 3
   },
   "file_extension": ".py",
   "mimetype": "text/x-python",
   "name": "python",
   "nbconvert_exporter": "python",
   "pygments_lexer": "ipython3",
   "version": "3.13.5"
  }
 },
 "nbformat": 4,
 "nbformat_minor": 5
}
