{
 "cells": [
  {
   "cell_type": "code",
   "execution_count": 1,
   "id": "34e07973",
   "metadata": {},
   "outputs": [],
   "source": [
    "import numpy as np"
   ]
  },
  {
   "cell_type": "markdown",
   "id": "8d4d0c4b",
   "metadata": {},
   "source": [
    "**Random permutation of elements**\n",
    "\n",
    "A permutation refers to an arrangement of elements. e.g. [3, 2, 1] is a permutation of [1, 2, 3] and vice-versa.\n",
    "\n",
    "The NumPy Random module provides two methods for this: shuffle() and permutation()."
   ]
  },
  {
   "cell_type": "markdown",
   "id": "3142e80c",
   "metadata": {},
   "source": [
    "**Shuffle means changing arrangement of elements in-place. i.e. in the array itself.**"
   ]
  },
  {
   "cell_type": "markdown",
   "id": "561d7139",
   "metadata": {},
   "source": [
    "**The shuffle() method makes changes to the original array.**"
   ]
  },
  {
   "cell_type": "code",
   "execution_count": 5,
   "id": "e0d929a8",
   "metadata": {},
   "outputs": [
    {
     "name": "stdout",
     "output_type": "stream",
     "text": [
      "Shuffled array: [5 1 4 2 3]\n"
     ]
    }
   ],
   "source": [
    "# randomly shuffling elements...\n",
    "arr = np.array([1, 2, 3, 4, 5])\n",
    "np.random.shuffle(arr)\n",
    "print(\"Shuffled array:\", arr)"
   ]
  },
  {
   "cell_type": "markdown",
   "id": "2d05c903",
   "metadata": {},
   "source": [
    "**Generating Permutation of Arrays**"
   ]
  },
  {
   "cell_type": "markdown",
   "id": "b8f93575",
   "metadata": {},
   "source": [
    "The permutation() method returns a re-arranged array (and leaves the original array un-changed)."
   ]
  },
  {
   "cell_type": "code",
   "execution_count": 10,
   "id": "91d4a44d",
   "metadata": {},
   "outputs": [
    {
     "name": "stdout",
     "output_type": "stream",
     "text": [
      "[1 3 2 4 5]\n"
     ]
    }
   ],
   "source": [
    "arr2 = np.array([1, 2, 3, 4, 5])\n",
    "print(np.random.permutation(arr2))"
   ]
  }
 ],
 "metadata": {
  "kernelspec": {
   "display_name": "base",
   "language": "python",
   "name": "python3"
  },
  "language_info": {
   "codemirror_mode": {
    "name": "ipython",
    "version": 3
   },
   "file_extension": ".py",
   "mimetype": "text/x-python",
   "name": "python",
   "nbconvert_exporter": "python",
   "pygments_lexer": "ipython3",
   "version": "3.13.5"
  }
 },
 "nbformat": 4,
 "nbformat_minor": 5
}
