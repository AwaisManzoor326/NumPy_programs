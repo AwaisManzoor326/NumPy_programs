{
 "cells": [
  {
   "cell_type": "code",
   "execution_count": 1,
   "id": "1bd1f0c0",
   "metadata": {},
   "outputs": [],
   "source": [
    "from numpy import random"
   ]
  },
  {
   "cell_type": "markdown",
   "id": "de6a92bd",
   "metadata": {},
   "source": [
    "**What are random numbers?**\n",
    "\n",
    "Random number doesn't mean a new number every time but it means a numbers that cannot be predicted logically."
   ]
  },
  {
   "cell_type": "markdown",
   "id": "529c19e6",
   "metadata": {},
   "source": [
    "**True Randoms** are numbers used in security purposes like encryption.\n",
    "\n",
    "We will be practicing **pseudo randoms** that are generated through some a generation algorithm."
   ]
  },
  {
   "cell_type": "markdown",
   "id": "2d5610e2",
   "metadata": {},
   "source": [
    "**Generating random integer through randint()**\n",
    "\n",
    "It takes size as argument."
   ]
  },
  {
   "cell_type": "code",
   "execution_count": 4,
   "id": "dba000ba",
   "metadata": {},
   "outputs": [
    {
     "name": "stdout",
     "output_type": "stream",
     "text": [
      "31\n"
     ]
    }
   ],
   "source": [
    "r1 = random.randint(50)\n",
    "print(r1)"
   ]
  },
  {
   "cell_type": "markdown",
   "id": "fb4e3900",
   "metadata": {},
   "source": [
    "**Generating random float through rand()**\n",
    "\n",
    "It returns a float b/w 0 and 1."
   ]
  },
  {
   "cell_type": "code",
   "execution_count": 8,
   "id": "b1c2f55d",
   "metadata": {},
   "outputs": [
    {
     "name": "stdout",
     "output_type": "stream",
     "text": [
      "0.19242251472822014\n"
     ]
    }
   ],
   "source": [
    "r2 = random.rand()\n",
    "print(r2)"
   ]
  },
  {
   "cell_type": "markdown",
   "id": "d7ba4065",
   "metadata": {},
   "source": [
    "**Generating random array**\n",
    "\n",
    "rand() and randint() methods take array shape as arguments"
   ]
  },
  {
   "cell_type": "code",
   "execution_count": 14,
   "id": "dfb80101",
   "metadata": {},
   "outputs": [
    {
     "name": "stdout",
     "output_type": "stream",
     "text": [
      "[83 57 93 91 74]\n"
     ]
    }
   ],
   "source": [
    "r3 = random.randint(100, size=(5))\n",
    "print(r3)"
   ]
  },
  {
   "cell_type": "code",
   "execution_count": 16,
   "id": "d8e78476",
   "metadata": {},
   "outputs": [
    {
     "name": "stdout",
     "output_type": "stream",
     "text": [
      "[0.67285048 0.25944206 0.44422304 0.42709377 0.59436626]\n"
     ]
    }
   ],
   "source": [
    "r4 = random.rand(5)\n",
    "print(r4)"
   ]
  },
  {
   "cell_type": "code",
   "execution_count": 17,
   "id": "5f049792",
   "metadata": {},
   "outputs": [
    {
     "name": "stdout",
     "output_type": "stream",
     "text": [
      "[[63 36 61 46]\n",
      " [55 67 42 65]\n",
      " [43 40 60 67]]\n"
     ]
    }
   ],
   "source": [
    "print(random.randint(100, size=(3, 4)))"
   ]
  },
  {
   "cell_type": "code",
   "execution_count": 18,
   "id": "c4a6d355",
   "metadata": {},
   "outputs": [
    {
     "name": "stdout",
     "output_type": "stream",
     "text": [
      "[[[76 75  1 42]\n",
      "  [42 46 12 66]\n",
      "  [ 2 90 50 60]]\n",
      "\n",
      " [[ 1 30 90 82]\n",
      "  [ 0 23 17 87]\n",
      "  [95 95 92 50]]]\n"
     ]
    }
   ],
   "source": [
    "print(random.randint(100, size=(2, 3, 4)))"
   ]
  },
  {
   "cell_type": "code",
   "execution_count": 20,
   "id": "01c37e6d",
   "metadata": {},
   "outputs": [
    {
     "name": "stdout",
     "output_type": "stream",
     "text": [
      "[[0.67830524 0.24716432 0.76944837 0.99942596]\n",
      " [0.09705788 0.03041591 0.62445611 0.92479074]\n",
      " [0.3558208  0.13772058 0.10514156 0.08400491]]\n"
     ]
    }
   ],
   "source": [
    "print(random.rand(3, 4))"
   ]
  },
  {
   "cell_type": "code",
   "execution_count": 22,
   "id": "c8b25278",
   "metadata": {},
   "outputs": [
    {
     "name": "stdout",
     "output_type": "stream",
     "text": [
      "[[[0.03408615 0.77861597 0.93166714 0.32243089]\n",
      "  [0.71723294 0.48525029 0.59859052 0.5568512 ]\n",
      "  [0.18237722 0.22603759 0.58015364 0.07518147]]\n",
      "\n",
      " [[0.56545389 0.15234167 0.57111901 0.17621011]\n",
      "  [0.14800634 0.37968723 0.91950628 0.00674736]\n",
      "  [0.66774397 0.28642917 0.26628066 0.89219438]]]\n"
     ]
    }
   ],
   "source": [
    "print(random.rand(2, 3, 4))"
   ]
  },
  {
   "cell_type": "markdown",
   "id": "ecd4f0bf",
   "metadata": {},
   "source": [
    "**We can also genarate randoms from an array**"
   ]
  },
  {
   "cell_type": "code",
   "execution_count": 29,
   "id": "83692194",
   "metadata": {},
   "outputs": [
    {
     "name": "stdout",
     "output_type": "stream",
     "text": [
      "9\n"
     ]
    }
   ],
   "source": [
    "r5 = random.choice([5, 2, 7, 4, 9])\n",
    "print(r5)"
   ]
  },
  {
   "cell_type": "code",
   "execution_count": 32,
   "id": "848b78c8",
   "metadata": {},
   "outputs": [
    {
     "name": "stdout",
     "output_type": "stream",
     "text": [
      "[[8 5 8 8 5]\n",
      " [5 8 8 8 5]\n",
      " [8 5 5 8 5]]\n"
     ]
    }
   ],
   "source": [
    "r6 = random.choice([5 ,8], size=(3, 5))\n",
    "print(r6)"
   ]
  }
 ],
 "metadata": {
  "kernelspec": {
   "display_name": "base",
   "language": "python",
   "name": "python3"
  },
  "language_info": {
   "codemirror_mode": {
    "name": "ipython",
    "version": 3
   },
   "file_extension": ".py",
   "mimetype": "text/x-python",
   "name": "python",
   "nbconvert_exporter": "python",
   "pygments_lexer": "ipython3",
   "version": "3.13.5"
  }
 },
 "nbformat": 4,
 "nbformat_minor": 5
}
