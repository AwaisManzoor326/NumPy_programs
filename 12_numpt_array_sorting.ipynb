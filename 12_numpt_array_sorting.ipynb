{
 "cells": [
  {
   "cell_type": "code",
   "execution_count": 1,
   "id": "617cd9e4",
   "metadata": {},
   "outputs": [],
   "source": [
    "import numpy as np"
   ]
  },
  {
   "cell_type": "markdown",
   "id": "8228f56f",
   "metadata": {},
   "source": [
    "**Sorting means putting elements in arranged manner.**\n",
    "\n",
    "Sequence could be any numeric, alphabetical, ascending or descending\n",
    "\n",
    "**numpy array has a function sort() for this operation.**\n",
    "**It makes a copy of array leaving original one unchanged**"
   ]
  },
  {
   "cell_type": "code",
   "execution_count": 3,
   "id": "065dbe51",
   "metadata": {},
   "outputs": [
    {
     "name": "stdout",
     "output_type": "stream",
     "text": [
      "Original array:\n",
      "[4 1 9 5 2 6 4 0]\n",
      "\n",
      "Sorted array:\n",
      "[0 1 2 4 4 5 6 9]\n",
      "\n",
      "Original array after sorting:\n",
      "[4 1 9 5 2 6 4 0]\n"
     ]
    }
   ],
   "source": [
    "arr1 = np.array([4, 1, 9, 5, 2, 6, 4, 0])\n",
    "print(\"Original array:\")\n",
    "print(arr1)\n",
    "\n",
    "print(\"\\nSorted array:\")\n",
    "print(np.sort(arr1))\n",
    "\n",
    "print(\"\\nOriginal array after sorting:\")\n",
    "print(arr1)"
   ]
  },
  {
   "cell_type": "markdown",
   "id": "24a70194",
   "metadata": {},
   "source": [
    "**We can also sort arrays of any data type**"
   ]
  },
  {
   "cell_type": "code",
   "execution_count": 4,
   "id": "9a063723",
   "metadata": {},
   "outputs": [
    {
     "name": "stdout",
     "output_type": "stream",
     "text": [
      "['apple' 'banana' 'cherry']\n"
     ]
    }
   ],
   "source": [
    "arr2 = np.array(['banana', 'cherry', 'apple'])\n",
    "print(np.sort(arr2))"
   ]
  },
  {
   "cell_type": "code",
   "execution_count": 5,
   "id": "cfe85875",
   "metadata": {},
   "outputs": [
    {
     "name": "stdout",
     "output_type": "stream",
     "text": [
      "[False  True  True]\n"
     ]
    }
   ],
   "source": [
    "arr3 = np.array([True, False, True])\n",
    "print(np.sort(arr3))"
   ]
  },
  {
   "cell_type": "markdown",
   "id": "72235473",
   "metadata": {},
   "source": [
    "**Sorting a 2-D Array**"
   ]
  },
  {
   "cell_type": "code",
   "execution_count": null,
   "id": "20410d98",
   "metadata": {},
   "outputs": [
    {
     "name": "stdout",
     "output_type": "stream",
     "text": [
      "[[2 3 4]\n",
      " [0 1 5]]\n"
     ]
    }
   ],
   "source": [
    "arr = np.array([[3, 2, 4], [5, 0, 1]])\n",
    "# print(np.sort(arr)) # sorts each . same as axis=1\n",
    "# print(np.sort(arr, axis=0)) # sorts each column\n",
    "# print(np.sort(arr, axis=None)) # flattens the array and sorts it"
   ]
  },
  {
   "cell_type": "markdown",
   "id": "ecbe9c13",
   "metadata": {},
   "source": [
    "**checking 3D arrays**"
   ]
  },
  {
   "cell_type": "code",
   "execution_count": 16,
   "id": "62a0ddd5",
   "metadata": {},
   "outputs": [
    {
     "name": "stdout",
     "output_type": "stream",
     "text": [
      "[[[1 1]\n",
      "  [3 4]]\n",
      "\n",
      " [[5 7]\n",
      "  [6 9]]]\n"
     ]
    }
   ],
   "source": [
    "arr3 = np.array([[[5, 1], [3, 9]], [[1, 7], [6, 4]]])\n",
    "# print(arr3.shape)\n",
    "print(np.sort(arr3, axis=0)) # sorts along the first axis. take all elements, sort them and put them back in their respective places\n",
    "\n",
    "# print(np.sort(arr3, axis=1)) # sorts along the second axis. column wise sorting in each block\n",
    "\n",
    "# print(np.sort(arr3, axis=2)) # sorts along the third axis. row wise sorting in each block\n",
    "\n",
    "# print(np.sort(arr3, axis=None)) # flattens the array and sorts it"
   ]
  }
 ],
 "metadata": {
  "kernelspec": {
   "display_name": "base",
   "language": "python",
   "name": "python3"
  },
  "language_info": {
   "codemirror_mode": {
    "name": "ipython",
    "version": 3
   },
   "file_extension": ".py",
   "mimetype": "text/x-python",
   "name": "python",
   "nbconvert_exporter": "python",
   "pygments_lexer": "ipython3",
   "version": "3.13.5"
  }
 },
 "nbformat": 4,
 "nbformat_minor": 5
}
