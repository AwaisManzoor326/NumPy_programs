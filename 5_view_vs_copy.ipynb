{
 "cells": [
  {
   "cell_type": "code",
   "id": "initial_id",
   "metadata": {
    "collapsed": true,
    "ExecuteTime": {
     "end_time": "2025-09-07T18:01:01.128047Z",
     "start_time": "2025-09-07T18:01:00.782542Z"
    }
   },
   "source": "import numpy as np",
   "outputs": [],
   "execution_count": 1
  },
  {
   "metadata": {
    "ExecuteTime": {
     "end_time": "2025-09-07T18:04:46.461587Z",
     "start_time": "2025-09-07T18:04:46.451319Z"
    }
   },
   "cell_type": "code",
   "source": [
    "# if you want to change elements of array, 1st make copy of it to keep original array as it is.\n",
    "arr = np.array([1, 2, 3, 4, 5])\n",
    "arr2 = arr.copy()\n",
    "arr[0] = 11\n",
    "print(arr)\n",
    "print(arr2)"
   ],
   "id": "a878f19e7b7c9d8f",
   "outputs": [
    {
     "name": "stdout",
     "output_type": "stream",
     "text": [
      "[11  2  3  4  5]\n",
      "[1 2 3 4 5]\n"
     ]
    }
   ],
   "execution_count": 3
  },
  {
   "metadata": {
    "ExecuteTime": {
     "end_time": "2025-09-07T18:05:46.550158Z",
     "start_time": "2025-09-07T18:05:46.545319Z"
    }
   },
   "cell_type": "code",
   "source": "print(arr2.shape)",
   "id": "1c795d5c324498a3",
   "outputs": [
    {
     "name": "stdout",
     "output_type": "stream",
     "text": [
      "(5,)\n"
     ]
    }
   ],
   "execution_count": 5
  },
  {
   "metadata": {
    "ExecuteTime": {
     "end_time": "2025-09-07T18:12:08.343709Z",
     "start_time": "2025-09-07T18:12:08.338203Z"
    }
   },
   "cell_type": "code",
   "source": [
    "# view is opposite to copy function. it also made a copy/view but changes in any array original or copy changes both arrays\n",
    "arr3 = arr2.view()\n",
    "arr2[1] = 22\n",
    "print(arr2, arr3)\n",
    "arr3[3] = 34\n",
    "print(arr2, arr3)"
   ],
   "id": "2ca95734fe06e00a",
   "outputs": [
    {
     "name": "stdout",
     "output_type": "stream",
     "text": [
      "[ 1 22  3 34  5] [ 1 22  3 34  5]\n",
      "[ 1 22  3 34  5] [ 1 22  3 34  5]\n"
     ]
    }
   ],
   "execution_count": 7
  },
  {
   "metadata": {
    "ExecuteTime": {
     "end_time": "2025-09-07T18:14:15.322635Z",
     "start_time": "2025-09-07T18:14:15.316569Z"
    }
   },
   "cell_type": "code",
   "source": [
    "print(np.shape(arr3))\n",
    "print(np.size(arr3))"
   ],
   "id": "5fca2e6e6afbabff",
   "outputs": [
    {
     "name": "stdout",
     "output_type": "stream",
     "text": [
      "(5,)\n",
      "5\n"
     ]
    }
   ],
   "execution_count": 8
  },
  {
   "metadata": {
    "ExecuteTime": {
     "end_time": "2025-09-07T18:16:44.120576Z",
     "start_time": "2025-09-07T18:16:44.115261Z"
    }
   },
   "cell_type": "code",
   "source": "print(arr.shape)",
   "id": "b83d9bb83dc14056",
   "outputs": [
    {
     "name": "stdout",
     "output_type": "stream",
     "text": [
      "(5,)\n"
     ]
    }
   ],
   "execution_count": 9
  },
  {
   "metadata": {
    "ExecuteTime": {
     "end_time": "2025-09-07T18:17:07.877533Z",
     "start_time": "2025-09-07T18:17:07.873186Z"
    }
   },
   "cell_type": "code",
   "source": "print(arr2.size)",
   "id": "9ed07707a704e73",
   "outputs": [
    {
     "name": "stdout",
     "output_type": "stream",
     "text": [
      "5\n"
     ]
    }
   ],
   "execution_count": 10
  },
  {
   "metadata": {
    "ExecuteTime": {
     "end_time": "2025-09-07T18:20:32.339357Z",
     "start_time": "2025-09-07T18:20:32.327394Z"
    }
   },
   "cell_type": "code",
   "source": [
    "# numpy copy() owns data and view() doesn't own data. None is returned for owning data, otherwise array is returned.\n",
    "x = arr.copy()\n",
    "y = arr.view()\n",
    "print(x.base)\n",
    "print(y.base)"
   ],
   "id": "574a9c7443d55729",
   "outputs": [
    {
     "name": "stdout",
     "output_type": "stream",
     "text": [
      "None\n",
      "[11  2  3  4  5]\n"
     ]
    }
   ],
   "execution_count": 11
  }
 ],
 "metadata": {
  "kernelspec": {
   "display_name": "Python 3",
   "language": "python",
   "name": "python3"
  },
  "language_info": {
   "codemirror_mode": {
    "name": "ipython",
    "version": 2
   },
   "file_extension": ".py",
   "mimetype": "text/x-python",
   "name": "python",
   "nbconvert_exporter": "python",
   "pygments_lexer": "ipython2",
   "version": "2.7.6"
  }
 },
 "nbformat": 4,
 "nbformat_minor": 5
}
